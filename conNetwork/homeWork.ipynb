{
 "cells": [
  {
   "cell_type": "code",
   "execution_count": 1,
   "id": "initial_id",
   "metadata": {
    "ExecuteTime": {
     "end_time": "2024-12-01T14:41:03.453802Z",
     "start_time": "2024-12-01T14:41:03.451935Z"
    }
   },
   "outputs": [],
   "source": [
    "import torch\n",
    "from torch import nn\n",
    "import torchvision as tv\n",
    "import time"
   ]
  },
  {
   "cell_type": "markdown",
   "id": "cb827d94-437b-4b83-ae61-67dd6b2ba27b",
   "metadata": {},
   "source": [
    "###  Загрузка данных"
   ]
  },
  {
   "cell_type": "code",
   "execution_count": 2,
   "id": "95941883-31ff-4f6d-9be9-031b263a9677",
   "metadata": {},
   "outputs": [],
   "source": [
    "BATCH_SIZE = 256\n",
    "\n",
    "transforms = tv.transforms.Compose([\n",
    "    tv.transforms.ToTensor()\n",
    "])\n",
    "\n",
    "train_dataset = tv.datasets.MNIST('.',\n",
    "                                  train=True,\n",
    "                                  transform=transforms,\n",
    "                                  download=True)\n",
    "\n",
    "test_dataset = tv.datasets.MNIST('.',\n",
    "                                 train=False,\n",
    "                                 transform=transforms,\n",
    "                                 download=True)\n",
    "\n",
    "train_iter = torch.utils.data.DataLoader(train_dataset, batch_size=BATCH_SIZE)\n",
    "test_iter = torch.utils.data.DataLoader(test_dataset, batch_size=BATCH_SIZE)"
   ]
  },
  {
   "cell_type": "code",
   "execution_count": 3,
   "id": "c04ee9c6-0624-4f1e-a19f-22222e5c6d8e",
   "metadata": {},
   "outputs": [
    {
     "data": {
      "text/plain": [
       "torch.Size([60000, 28, 28])"
      ]
     },
     "execution_count": 3,
     "metadata": {},
     "output_type": "execute_result"
    }
   ],
   "source": [
    "train_dataset.data.shape"
   ]
  },
  {
   "cell_type": "code",
   "execution_count": 4,
   "id": "dfd4bc94-790b-4e12-b5d8-ff3e1f222073",
   "metadata": {},
   "outputs": [
    {
     "data": {
      "text/plain": [
       "torch.Size([10000, 28, 28])"
      ]
     },
     "execution_count": 4,
     "metadata": {},
     "output_type": "execute_result"
    }
   ],
   "source": [
    "test_dataset.data.shape"
   ]
  },
  {
   "cell_type": "code",
   "execution_count": 5,
   "id": "7290e7d4-aa07-44d2-893b-da0a2a2783aa",
   "metadata": {},
   "outputs": [
    {
     "data": {
      "text/plain": [
       "'cuda'"
      ]
     },
     "execution_count": 5,
     "metadata": {},
     "output_type": "execute_result"
    }
   ],
   "source": [
    "device = \"cuda\" if torch.cuda.is_available() else \"cpu\"\n",
    "device"
   ]
  },
  {
   "cell_type": "markdown",
   "id": "f5e9914c-f60d-483d-9cb0-ef683bfaa765",
   "metadata": {},
   "source": [
    "## Вспомогательные функции  - обчения и определение тосности классификаации"
   ]
  },
  {
   "cell_type": "code",
   "execution_count": 6,
   "id": "9dd6bc5d-70ea-4529-8238-a609ea713335",
   "metadata": {},
   "outputs": [],
   "source": [
    "def evaluate_accuracy(data_iter, net):\n",
    "    acc_sum, n = torch.Tensor([0]), 0\n",
    "    for X, y in data_iter:\n",
    "        acc_sum += (net(X).argmax(axis=1) == y).sum()\n",
    "        n += y.shape[0]\n",
    "    return acc_sum.item() / n\n",
    "def train(net, train_iter, test_iter, optimizer, num_epochs):\n",
    "    loss = nn.CrossEntropyLoss()\n",
    "\n",
    "    for epoch in range(num_epochs):\n",
    "        train_l_sum, train_acc_sum, n, start = 0.0, 0.0, 0, time.time()\n",
    "    \n",
    "        for X, y in train_iter:\n",
    "            optimizer.zero_grad()\n",
    "            y_hat = net(X)\n",
    "            l = loss(y_hat, y)\n",
    "            l.backward()\n",
    "            optimizer.step()\n",
    "            train_l_sum += l.item()\n",
    "            train_acc_sum += (y_hat.argmax(axis=1) == y).sum().item()\n",
    "            n += y.shape[0]\n",
    "    \n",
    "        test_acc = evaluate_accuracy(test_iter, net)\n",
    "        print(f'epoch {epoch + 1}, loss {train_l_sum / n:.4f}, train acc {train_acc_sum / n:.3f}' \\\n",
    "              f', test acc {test_acc:.3f}, time {time.time() - start:.1f} sec')"
   ]
  },
  {
   "cell_type": "markdown",
   "id": "dc45743b-390b-463b-9962-c3d4962b625a",
   "metadata": {},
   "source": [
    "### Базовая модель"
   ]
  },
  {
   "cell_type": "code",
   "execution_count": 7,
   "id": "00c71368-d1a1-4840-9bf3-5d45d9732763",
   "metadata": {},
   "outputs": [],
   "source": [
    "model = nn.Sequential(\n",
    "    nn.Conv2d(1, 6, kernel_size=5, padding=0),\n",
    "    nn.Tanh(),\n",
    "    nn.AvgPool2d(2, stride=2),\n",
    "    nn.Conv2d(6, 16, kernel_size=5),\n",
    "    nn.Tanh(),\n",
    "    nn.AvgPool2d(2, stride=2),\n",
    "    nn.Conv2d(16, 120, kernel_size=5),\n",
    "    nn.Flatten(),\n",
    "    nn.Linear(120, 84),\n",
    "    nn.Tanh(),\n",
    "    nn.Linear(84, 10)\n",
    ")"
   ]
  },
  {
   "cell_type": "code",
   "execution_count": 8,
   "id": "ecd08051-a1a7-4d20-a60f-2a9c979e35bd",
   "metadata": {},
   "outputs": [
    {
     "name": "stdout",
     "output_type": "stream",
     "text": [
      "----------------------------------------------------------------\n",
      "        Layer (type)               Output Shape         Param #\n",
      "================================================================\n",
      "            Conv2d-1            [-1, 6, 28, 28]             156\n",
      "              Tanh-2            [-1, 6, 28, 28]               0\n",
      "         AvgPool2d-3            [-1, 6, 14, 14]               0\n",
      "            Conv2d-4           [-1, 16, 10, 10]           2,416\n",
      "              Tanh-5           [-1, 16, 10, 10]               0\n",
      "         AvgPool2d-6             [-1, 16, 5, 5]               0\n",
      "            Conv2d-7            [-1, 120, 1, 1]          48,120\n",
      "           Flatten-8                  [-1, 120]               0\n",
      "            Linear-9                   [-1, 84]          10,164\n",
      "             Tanh-10                   [-1, 84]               0\n",
      "           Linear-11                   [-1, 10]             850\n",
      "================================================================\n",
      "Total params: 61,706\n",
      "Trainable params: 61,706\n",
      "Non-trainable params: 0\n",
      "----------------------------------------------------------------\n",
      "Input size (MB): 0.00\n",
      "Forward/backward pass size (MB): 0.11\n",
      "Params size (MB): 0.24\n",
      "Estimated Total Size (MB): 0.35\n",
      "----------------------------------------------------------------\n"
     ]
    }
   ],
   "source": [
    "from torchsummary import summary\n",
    "summary(model, input_size=(1, 32, 32), device='cpu')"
   ]
  },
  {
   "cell_type": "code",
   "execution_count": 10,
   "id": "67aec4a4-7d41-4afa-a686-dcc00ec1f768",
   "metadata": {},
   "outputs": [
    {
     "name": "stdout",
     "output_type": "stream",
     "text": [
      "epoch 1, loss 0.0089, train acc 0.164, test acc 0.406, time 5.4 sec\n",
      "epoch 2, loss 0.0077, train acc 0.538, test acc 0.602, time 5.3 sec\n",
      "epoch 3, loss 0.0048, train acc 0.684, test acc 0.770, time 5.2 sec\n",
      "epoch 4, loss 0.0031, train acc 0.799, test acc 0.835, time 5.2 sec\n",
      "epoch 5, loss 0.0024, train acc 0.842, test acc 0.860, time 5.2 sec\n"
     ]
    }
   ],
   "source": [
    "# model = model.to(device)\n",
    "lr, num_epochs = 0.01, 5\n",
    "trainer = torch.optim.SGD(model.parameters(), lr=lr)\n",
    "train(model, train_iter, test_iter, trainer, num_epochs)"
   ]
  },
  {
   "cell_type": "markdown",
   "id": "c319768f-7c69-49e5-a61d-9aff9aa47185",
   "metadata": {},
   "source": [
    "### На GPU"
   ]
  },
  {
   "cell_type": "code",
   "execution_count": 14,
   "id": "4e86bb31-e0ea-4f9b-acee-4940c05cfd83",
   "metadata": {},
   "outputs": [],
   "source": [
    "def evaluate_accuracy_cuda(data_iter, net, device):\n",
    "    acc_sum, n = torch.Tensor([0]).to(device), 0\n",
    "    for X, y in data_iter:\n",
    "        X, y = X.to(device), y.to(device)\n",
    "        acc_sum += (net(X).argmax(axis=1) == y).sum()\n",
    "        n += y.shape[0]\n",
    "    return acc_sum.item() / n\n",
    "def train_cuda(net, train_iter, test_iter, optimizer, num_epochs, device):\n",
    "    loss = nn.CrossEntropyLoss()\n",
    "\n",
    "    for epoch in range(num_epochs):\n",
    "        train_l_sum, train_acc_sum, n, start = 0.0, 0.0, 0, time.time()\n",
    "    \n",
    "        for X, y in train_iter:\n",
    "            X, y = X.to(device), y.to(device)\n",
    "            optimizer.zero_grad()\n",
    "            y_hat = net(X)\n",
    "            l = loss(y_hat, y)\n",
    "            l.backward()\n",
    "            optimizer.step()\n",
    "            train_l_sum += l.item()\n",
    "            train_acc_sum += (y_hat.argmax(axis=1) == y).sum().item()\n",
    "            n += y.shape[0]\n",
    "    \n",
    "        test_acc = evaluate_accuracy_cuda(test_iter, net, device)\n",
    "        print(f'epoch {epoch + 1}, loss {train_l_sum / n:.4f}, train acc {train_acc_sum / n:.3f}' \\\n",
    "              f', test acc {test_acc:.3f}, time {time.time() - start:.1f} sec')"
   ]
  },
  {
   "cell_type": "code",
   "execution_count": 13,
   "id": "d0803f07-6bda-45e1-876c-449158129dac",
   "metadata": {},
   "outputs": [
    {
     "data": {
      "text/plain": [
       "'cuda'"
      ]
     },
     "execution_count": 13,
     "metadata": {},
     "output_type": "execute_result"
    }
   ],
   "source": [
    "device = \"cuda\" if torch.cuda.is_available() else \"cpu\"\n",
    "device"
   ]
  },
  {
   "cell_type": "code",
   "execution_count": 15,
   "id": "5cc36ad2-f5e7-4ff4-9cd7-73b6e8be2899",
   "metadata": {},
   "outputs": [
    {
     "name": "stdout",
     "output_type": "stream",
     "text": [
      "epoch 1, loss 0.0020, train acc 0.862, test acc 0.875, time 3.8 sec\n",
      "epoch 2, loss 0.0018, train acc 0.876, test acc 0.883, time 3.7 sec\n",
      "epoch 3, loss 0.0016, train acc 0.884, test acc 0.892, time 4.9 sec\n",
      "epoch 4, loss 0.0015, train acc 0.889, test acc 0.896, time 5.1 sec\n",
      "epoch 5, loss 0.0015, train acc 0.894, test acc 0.900, time 5.1 sec\n"
     ]
    }
   ],
   "source": [
    "model = model.to(device)\n",
    "\n",
    "lr, num_epochs = 0.01, 5\n",
    "trainer = torch.optim.SGD(model.parameters(), lr=lr)\n",
    "train_cuda(model, train_iter, test_iter, trainer, num_epochs, device)"
   ]
  },
  {
   "cell_type": "markdown",
   "id": "0724dc5f-1db9-4fed-b63c-cf1c30a5156b",
   "metadata": {},
   "source": [
    "## Оптимизатор Adam"
   ]
  },
  {
   "cell_type": "code",
   "execution_count": 16,
   "id": "f3d554bc-1efd-4855-aebd-9a937e0b2b0d",
   "metadata": {},
   "outputs": [],
   "source": [
    "model = nn.Sequential(\n",
    "    nn.Conv2d(1, 6, kernel_size=5, padding=0),\n",
    "    nn.Tanh(),\n",
    "    nn.AvgPool2d(2, stride=2),\n",
    "    nn.Conv2d(6, 16, kernel_size=5),\n",
    "    nn.Tanh(),\n",
    "    nn.AvgPool2d(2, stride=2),\n",
    "    nn.Conv2d(16, 120, kernel_size=5),\n",
    "    nn.Flatten(),\n",
    "    nn.Linear(120, 84),\n",
    "    nn.Tanh(),\n",
    "    nn.Linear(84, 10)\n",
    ")\n",
    "model = model.to(device)"
   ]
  },
  {
   "cell_type": "code",
   "execution_count": 17,
   "id": "b47f3e7c-388c-416f-b6e4-b0fe9336200b",
   "metadata": {},
   "outputs": [
    {
     "name": "stdout",
     "output_type": "stream",
     "text": [
      "epoch 1, loss 0.0014, train acc 0.893, test acc 0.944, time 5.7 sec\n",
      "epoch 2, loss 0.0007, train acc 0.947, test acc 0.948, time 5.2 sec\n",
      "epoch 3, loss 0.0006, train acc 0.955, test acc 0.954, time 5.2 sec\n",
      "epoch 4, loss 0.0006, train acc 0.955, test acc 0.956, time 5.2 sec\n",
      "epoch 5, loss 0.0006, train acc 0.956, test acc 0.962, time 5.1 sec\n"
     ]
    }
   ],
   "source": [
    "lr, num_epochs = 0.01, 5\n",
    "trainer = torch.optim.Adam(model.parameters(), lr=lr)\n",
    "train_cuda(model, train_iter, test_iter, trainer, num_epochs, device)"
   ]
  },
  {
   "cell_type": "markdown",
   "id": "fa74b478-b835-49ae-9ae1-6ea3cf35d4c4",
   "metadata": {},
   "source": [
    "## Добавим слой регуляризации"
   ]
  },
  {
   "cell_type": "markdown",
   "id": "07ea0314-17e6-4a52-aa8a-e7c2bd1f3727",
   "metadata": {},
   "source": [
    "model = nn.Sequential(\n",
    "\n",
    "    nn.Conv2d(1, 6, kernel_size=5, padding=0),\n",
    "    nn.Tanh(),\n",
    "    nn.AvgPool2d(2, stride=2),\n",
    "\n",
    "    nn.Conv2d(6, 16, kernel_size=5),\n",
    "    nn.Tanh(),\n",
    "    nn.BatchNorm2d(16),\n",
    "    nn.AvgPool2d(2, stride=2),\n",
    "\n",
    "    nn.Conv2d(16, 120, kernel_size=5),\n",
    "    nn.Flatten(),\n",
    "    nn.Linear(120, 84),\n",
    "    nn.BatchNorm1d(84),\n",
    "    nn.Tanh(),\n",
    "    nn.Linear(84, 10)\n",
    ")\n",
    "model = model.to(device)"
   ]
  },
  {
   "cell_type": "code",
   "execution_count": 25,
   "id": "881cd7e5-0e7f-450e-ba30-af675cd703c1",
   "metadata": {},
   "outputs": [
    {
     "name": "stdout",
     "output_type": "stream",
     "text": [
      "epoch 1, loss 0.0008, train acc 0.940, test acc 0.972, time 5.5 sec\n",
      "epoch 2, loss 0.0003, train acc 0.979, test acc 0.978, time 5.3 sec\n",
      "epoch 3, loss 0.0002, train acc 0.984, test acc 0.979, time 5.2 sec\n",
      "epoch 4, loss 0.0002, train acc 0.987, test acc 0.979, time 5.2 sec\n",
      "epoch 5, loss 0.0002, train acc 0.988, test acc 0.980, time 5.1 sec\n"
     ]
    }
   ],
   "source": [
    "lr, num_epochs = 0.01, 5\n",
    "trainer = torch.optim.Adam(model.parameters(), lr=lr)\n",
    "train_cuda(model, train_iter, test_iter, trainer, num_epochs, device)"
   ]
  },
  {
   "cell_type": "markdown",
   "id": "6f23bf95-1b47-42fb-8be8-5181e55bd0fe",
   "metadata": {},
   "source": [
    "## Добавим слой регуляризации и Dropout слой"
   ]
  },
  {
   "cell_type": "code",
   "execution_count": 28,
   "id": "9e66d899-d39b-4a04-b593-b76fb7274013",
   "metadata": {},
   "outputs": [],
   "source": [
    "model = nn.Sequential(\n",
    "\n",
    "    nn.Conv2d(1, 6, kernel_size=5, padding=0),\n",
    "    nn.Tanh(),\n",
    "    nn.AvgPool2d(2, stride=2),\n",
    "\n",
    "    nn.Conv2d(6, 16, kernel_size=5),\n",
    "    nn.Tanh(),\n",
    "    nn.BatchNorm2d(16),\n",
    "    nn.AvgPool2d(2, stride=2),\n",
    "\n",
    "    nn.Conv2d(16, 120, kernel_size=5),    \n",
    "    nn.Flatten(),\n",
    "    \n",
    "    nn.Linear(120, 84),\n",
    "    nn.BatchNorm1d(84),\n",
    "    nn.Tanh(),\n",
    "    torch.nn.Dropout(0.3),\n",
    "    nn.Linear(84, 10)\n",
    ")\n",
    "model = model.to(device)"
   ]
  },
  {
   "cell_type": "code",
   "execution_count": 29,
   "id": "00853b73-b58d-4724-a6ce-91143dd4bea5",
   "metadata": {},
   "outputs": [
    {
     "name": "stdout",
     "output_type": "stream",
     "text": [
      "epoch 1, loss 0.0009, train acc 0.933, test acc 0.971, time 5.5 sec\n",
      "epoch 2, loss 0.0003, train acc 0.977, test acc 0.977, time 5.1 sec\n",
      "epoch 3, loss 0.0002, train acc 0.982, test acc 0.980, time 5.0 sec\n",
      "epoch 4, loss 0.0002, train acc 0.983, test acc 0.979, time 5.2 sec\n",
      "epoch 5, loss 0.0002, train acc 0.986, test acc 0.982, time 5.1 sec\n"
     ]
    }
   ],
   "source": [
    "lr, num_epochs = 0.01, 5\n",
    "trainer = torch.optim.Adam(model.parameters(), lr=lr)\n",
    "train_cuda(model, train_iter, test_iter, trainer, num_epochs, device)"
   ]
  },
  {
   "cell_type": "markdown",
   "id": "85e1d7e6-c9b9-49cc-95a2-0fe2cdd78df1",
   "metadata": {},
   "source": [
    "### Изменим функцию активации в выходном полносвязном слое"
   ]
  },
  {
   "cell_type": "code",
   "execution_count": 47,
   "id": "db78141e-024e-4842-bc17-9d9281c8681b",
   "metadata": {},
   "outputs": [],
   "source": [
    "model = nn.Sequential(\n",
    "    nn.Conv2d(1, 6, kernel_size=5, padding=0),\n",
    "    nn.Tanh(),\n",
    "    nn.AvgPool2d(2, stride=2),\n",
    "\n",
    "    nn.Conv2d(6, 16, kernel_size=5),\n",
    "    nn.Tanh(),\n",
    "    nn.BatchNorm2d(16),\n",
    "    nn.AvgPool2d(2, stride=2),\n",
    "\n",
    "    nn.Conv2d(16, 120, kernel_size=5),\n",
    "    nn.Flatten(),\n",
    "\n",
    "    nn.Linear(120, 84),\n",
    "    nn.BatchNorm1d(84),\n",
    "    nn.ReLU(),    \n",
    "    torch.nn.Dropout(0.3),\n",
    "    nn.Linear(84, 10)\n",
    ")\n",
    "model = model.to(device)"
   ]
  },
  {
   "cell_type": "code",
   "execution_count": 48,
   "id": "1adf2e14-dcbc-41bc-b5e9-a85ca3781c4f",
   "metadata": {},
   "outputs": [
    {
     "name": "stdout",
     "output_type": "stream",
     "text": [
      "epoch 1, loss 0.0010, train acc 0.925, test acc 0.970, time 4.1 sec\n",
      "epoch 2, loss 0.0003, train acc 0.976, test acc 0.974, time 4.9 sec\n",
      "epoch 3, loss 0.0003, train acc 0.981, test acc 0.980, time 5.1 sec\n",
      "epoch 4, loss 0.0002, train acc 0.984, test acc 0.981, time 5.2 sec\n",
      "epoch 5, loss 0.0002, train acc 0.983, test acc 0.980, time 5.0 sec\n"
     ]
    }
   ],
   "source": [
    "lr, num_epochs = 0.01, 5\n",
    "trainer = torch.optim.Adam(model.parameters(), lr=lr)\n",
    "train_cuda(model, train_iter, test_iter, trainer, num_epochs, device)"
   ]
  },
  {
   "cell_type": "code",
   "execution_count": 51,
   "id": "2d60d94d-cb29-4b88-9b52-6f741e3a9b14",
   "metadata": {},
   "outputs": [],
   "source": [
    "model = nn.Sequential(\n",
    "    nn.Conv2d(1, 6, kernel_size=5, padding=0),\n",
    "    nn.Tanh(),\n",
    "    nn.AvgPool2d(2, stride=2),\n",
    "\n",
    "    nn.Conv2d(6, 16, kernel_size=3),\n",
    "    nn.Tanh(),\n",
    "    nn.BatchNorm2d(16),\n",
    "    nn.AvgPool2d(2, stride=2),\n",
    "\n",
    "    nn.Conv2d(16, 64, kernel_size=2),\n",
    "    nn.Tanh(),\n",
    "    nn.BatchNorm2d(64),\n",
    "    # nn.AvgPool2d(2, stride=1),\n",
    "\n",
    "    nn.Conv2d(64, 120, kernel_size=5),\n",
    "    nn.Flatten(),\n",
    "\n",
    "    nn.Linear(120, 84),\n",
    "    nn.BatchNorm1d(84),\n",
    "    nn.ReLU(),\n",
    "    torch.nn.Dropout(0.3),\n",
    "    nn.Linear(84, 10)\n",
    ")\n",
    "model = model.to(device)"
   ]
  },
  {
   "cell_type": "code",
   "execution_count": 52,
   "id": "8c7723a7-9215-4119-9eb9-409370c7d31a",
   "metadata": {},
   "outputs": [
    {
     "name": "stdout",
     "output_type": "stream",
     "text": [
      "epoch 1, loss 0.0010, train acc 0.923, test acc 0.971, time 5.0 sec\n",
      "epoch 2, loss 0.0003, train acc 0.974, test acc 0.973, time 5.0 sec\n",
      "epoch 3, loss 0.0002, train acc 0.981, test acc 0.977, time 5.1 sec\n",
      "epoch 4, loss 0.0002, train acc 0.984, test acc 0.982, time 5.0 sec\n",
      "epoch 5, loss 0.0002, train acc 0.986, test acc 0.983, time 5.3 sec\n"
     ]
    }
   ],
   "source": [
    "lr, num_epochs = 0.01, 5\n",
    "trainer = torch.optim.Adam(model.parameters(), lr=lr)\n",
    "train_cuda(model, train_iter, test_iter, trainer, num_epochs, device)"
   ]
  },
  {
   "cell_type": "code",
   "execution_count": null,
   "id": "affafa65-7f30-4dd6-b9ec-e878ba2a192c",
   "metadata": {},
   "outputs": [],
   "source": []
  }
 ],
 "metadata": {
  "kernelspec": {
   "display_name": "Python 3 (ipykernel)",
   "language": "python",
   "name": "python3"
  },
  "language_info": {
   "codemirror_mode": {
    "name": "ipython",
    "version": 3
   },
   "file_extension": ".py",
   "mimetype": "text/x-python",
   "name": "python",
   "nbconvert_exporter": "python",
   "pygments_lexer": "ipython3",
   "version": "3.12.5"
  }
 },
 "nbformat": 4,
 "nbformat_minor": 5
}
