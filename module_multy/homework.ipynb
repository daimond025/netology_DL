{
 "cells": [
  {
   "cell_type": "code",
   "execution_count": 9,
   "id": "initial_id",
   "metadata": {
    "ExecuteTime": {
     "end_time": "2024-11-28T03:35:20.403264Z",
     "start_time": "2024-11-28T03:35:20.401965Z"
    }
   },
   "outputs": [],
   "source": [
    "import time\n",
    "\n",
    "import torch\n",
    "import matplotlib.pyplot as plt\n",
    "import numpy as np\n",
    "import pandas as pd\n",
    "import torchvision as tv"
   ]
  },
  {
   "cell_type": "markdown",
   "id": "2dc1a1a6-937c-4fe3-b063-b3a34779bec9",
   "metadata": {},
   "source": [
    " Загрузка данных"
   ]
  },
  {
   "cell_type": "code",
   "execution_count": 12,
   "id": "5807678436ef47e7",
   "metadata": {},
   "outputs": [],
   "source": [
    "BATCH_SIZE=256\n",
    "train_dataset = tv.datasets.MNIST('.', train=True, transform=tv.transforms.ToTensor(), download=True)\n",
    "test_dataset = tv.datasets.MNIST('.', train=False, transform=tv.transforms.ToTensor(), download=True)\n",
    "train = torch.utils.data.DataLoader(train_dataset, batch_size=BATCH_SIZE)\n",
    "test = torch.utils.data.DataLoader(test_dataset, batch_size=BATCH_SIZE)"
   ]
  },
  {
   "cell_type": "markdown",
   "id": "e760eb15-dd56-4103-b713-9ec7aa2f8ce6",
   "metadata": {},
   "source": [
    "### Базовая модель!"
   ]
  },
  {
   "cell_type": "code",
   "execution_count": 13,
   "id": "89e1d015-5c44-4229-b88f-a28baab87893",
   "metadata": {},
   "outputs": [],
   "source": [
    "num_epochs = 10\n",
    "loss = torch.nn.CrossEntropyLoss()"
   ]
  },
  {
   "cell_type": "code",
   "execution_count": 15,
   "id": "a1b708d7-b5ff-4349-9d8b-375a4a9e8684",
   "metadata": {},
   "outputs": [],
   "source": [
    "model = torch.nn.Sequential(\n",
    "    torch.nn.Flatten(),\n",
    "    torch.nn.Linear(784, 280),\n",
    "    torch.nn.ReLU(),\n",
    "    torch.nn.Linear(280, 10)\n",
    ")"
   ]
  },
  {
   "cell_type": "code",
   "execution_count": 16,
   "id": "b776d4fc-d016-4082-a0cb-20c840bae302",
   "metadata": {},
   "outputs": [
    {
     "data": {
      "text/plain": [
       "Sequential(\n",
       "  (0): Flatten(start_dim=1, end_dim=-1)\n",
       "  (1): Linear(in_features=784, out_features=280, bias=True)\n",
       "  (2): ReLU()\n",
       "  (3): Linear(in_features=280, out_features=10, bias=True)\n",
       ")"
      ]
     },
     "execution_count": 16,
     "metadata": {},
     "output_type": "execute_result"
    }
   ],
   "source": [
    "model"
   ]
  },
  {
   "cell_type": "code",
   "execution_count": 17,
   "id": "950653ba-96f4-4fff-bd42-079a503d2112",
   "metadata": {},
   "outputs": [],
   "source": [
    "trainer = torch.optim.SGD(model.parameters(), lr=.01)"
   ]
  },
  {
   "cell_type": "code",
   "execution_count": 18,
   "id": "90facd98-db62-45bd-be03-07d0b5c8e020",
   "metadata": {},
   "outputs": [],
   "source": [
    "def train_model():\n",
    "    for ep in range(num_epochs):\n",
    "        train_iters, train_passed  = 0, 0\n",
    "        train_loss, train_acc = 0., 0.\n",
    "        start=time.time()\n",
    "        \n",
    "        model.train()\n",
    "        for X, y in train:\n",
    "            trainer.zero_grad()\n",
    "            y_pred = model(X)\n",
    "            l = loss(y_pred, y)\n",
    "            l.backward()\n",
    "            trainer.step()\n",
    "            train_loss += l.item()\n",
    "            train_acc += (y_pred.argmax(dim=1) == y).sum().item()\n",
    "            train_iters += 1\n",
    "            train_passed += len(X)\n",
    "        \n",
    "        test_iters, test_passed  = 0, 0\n",
    "        test_loss, test_acc = 0., 0.\n",
    "        model.eval()\n",
    "        for X, y in test:\n",
    "            y_pred = model(X)\n",
    "            l = loss(y_pred, y)\n",
    "            test_loss += l.item()\n",
    "            test_acc += (y_pred.argmax(dim=1) == y).sum().item()\n",
    "            test_iters += 1\n",
    "            test_passed += len(X)\n",
    "            \n",
    "        print(\"ep: {}, taked: {:.3f}, train_loss: {}, train_acc: {}, test_loss: {}, test_acc: {}\".format(\n",
    "            ep, time.time() - start, train_loss / train_iters, train_acc / train_passed,\n",
    "            test_loss / test_iters, test_acc / test_passed)\n",
    "        )"
   ]
  },
  {
   "cell_type": "code",
   "execution_count": 19,
   "id": "9b5c51d1-1a25-43c0-955d-278d6c0126b6",
   "metadata": {},
   "outputs": [
    {
     "name": "stdout",
     "output_type": "stream",
     "text": [
      "ep: 0, taked: 2.543, train_loss: 2.030889265587989, train_acc: 0.5610833333333334, test_loss: 1.6681602120399475, test_acc: 0.7438\n",
      "ep: 1, taked: 2.522, train_loss: 1.318907409779569, train_acc: 0.7762, test_loss: 0.9911847203969956, test_acc: 0.817\n",
      "ep: 2, taked: 2.480, train_loss: 0.8534280244340288, train_acc: 0.82825, test_loss: 0.7022526800632477, test_acc: 0.8494\n",
      "ep: 3, taked: 2.521, train_loss: 0.6567650067045333, train_acc: 0.8514166666666667, test_loss: 0.5716592539101839, test_acc: 0.8672\n",
      "ep: 4, taked: 2.487, train_loss: 0.5582369789164117, train_acc: 0.8644833333333334, test_loss: 0.4990766070783138, test_acc: 0.8769\n",
      "ep: 5, taked: 2.498, train_loss: 0.49953448525134553, train_acc: 0.87405, test_loss: 0.4530746672302485, test_acc: 0.8835\n",
      "ep: 6, taked: 2.502, train_loss: 0.4605356029373534, train_acc: 0.8808833333333334, test_loss: 0.4213456977158785, test_acc: 0.8879\n",
      "ep: 7, taked: 2.542, train_loss: 0.4326506283689053, train_acc: 0.8852666666666666, test_loss: 0.3980914317071438, test_acc: 0.8925\n",
      "ep: 8, taked: 2.538, train_loss: 0.41159931142279443, train_acc: 0.88875, test_loss: 0.38022861890494825, test_acc: 0.8962\n",
      "ep: 9, taked: 2.503, train_loss: 0.3950166150610498, train_acc: 0.8918833333333334, test_loss: 0.36597779002040626, test_acc: 0.898\n"
     ]
    }
   ],
   "source": [
    "train_model()"
   ]
  },
  {
   "cell_type": "markdown",
   "id": "eb29de17-19b5-43a5-a2c6-b6dde0d2c6f6",
   "metadata": {},
   "source": [
    "### Модель та же, оптимизатор ADAM"
   ]
  },
  {
   "cell_type": "code",
   "execution_count": 20,
   "id": "070a3c84-93c2-41ea-9b91-0d2d223ba516",
   "metadata": {},
   "outputs": [
    {
     "name": "stdout",
     "output_type": "stream",
     "text": [
      "ep: 0, taked: 2.845, train_loss: 0.2791221217509914, train_acc: 0.9196333333333333, test_loss: 0.13947316671255977, test_acc: 0.9548\n",
      "ep: 1, taked: 2.556, train_loss: 0.11146213900139357, train_acc: 0.9656833333333333, test_loss: 0.12139254375360906, test_acc: 0.9642\n",
      "ep: 2, taked: 2.574, train_loss: 0.07755408009236797, train_acc: 0.97605, test_loss: 0.12023709187051282, test_acc: 0.9651\n",
      "ep: 3, taked: 2.600, train_loss: 0.058777775043780185, train_acc: 0.9814, test_loss: 0.09742028797627426, test_acc: 0.972\n",
      "ep: 4, taked: 2.651, train_loss: 0.053700930397323474, train_acc: 0.9821333333333333, test_loss: 0.1184852261794731, test_acc: 0.9684\n",
      "ep: 5, taked: 2.574, train_loss: 0.04526746704421462, train_acc: 0.9854833333333334, test_loss: 0.12313873084785883, test_acc: 0.9685\n",
      "ep: 6, taked: 2.566, train_loss: 0.04122199494827618, train_acc: 0.9860833333333333, test_loss: 0.11060350458719767, test_acc: 0.9721\n",
      "ep: 7, taked: 2.531, train_loss: 0.04367182032215072, train_acc: 0.9853666666666666, test_loss: 0.10803604248685587, test_acc: 0.9727\n",
      "ep: 8, taked: 2.548, train_loss: 0.039308829403462565, train_acc: 0.9872666666666666, test_loss: 0.1419183140285895, test_acc: 0.9689\n",
      "ep: 9, taked: 2.726, train_loss: 0.039581902860663834, train_acc: 0.9874833333333334, test_loss: 0.14178586607885676, test_acc: 0.9719\n"
     ]
    }
   ],
   "source": [
    "trainer = torch.optim.Adam(model.parameters(), lr=.01)\n",
    "train_model()"
   ]
  },
  {
   "cell_type": "code",
   "execution_count": 23,
   "id": "b291088c-adc1-458f-8200-3f687087e6fd",
   "metadata": {},
   "outputs": [
    {
     "name": "stdout",
     "output_type": "stream",
     "text": [
      "ep: 0, taked: 2.600, train_loss: 0.07343536421280117, train_acc: 0.9766333333333334, test_loss: 0.13257493253913707, test_acc: 0.9649\n",
      "ep: 1, taked: 2.874, train_loss: 0.06114110290568243, train_acc: 0.98055, test_loss: 0.1466785636759596, test_acc: 0.965\n",
      "ep: 2, taked: 2.931, train_loss: 0.05811400160272705, train_acc: 0.9813166666666666, test_loss: 0.1297523963934509, test_acc: 0.9679\n",
      "ep: 3, taked: 3.031, train_loss: 0.052610865409703965, train_acc: 0.9823833333333334, test_loss: 0.14272555520101377, test_acc: 0.9669\n",
      "ep: 4, taked: 2.829, train_loss: 0.05364435728282688, train_acc: 0.9824833333333334, test_loss: 0.14242301852318634, test_acc: 0.9684\n",
      "ep: 5, taked: 2.937, train_loss: 0.05164318871387142, train_acc: 0.9831833333333333, test_loss: 0.12712270568372333, test_acc: 0.9683\n",
      "ep: 6, taked: 2.802, train_loss: 0.044573068147168514, train_acc: 0.9853166666666666, test_loss: 0.1497264314966742, test_acc: 0.9657\n",
      "ep: 7, taked: 2.983, train_loss: 0.04395138074871787, train_acc: 0.9856166666666667, test_loss: 0.14368004216521513, test_acc: 0.9685\n",
      "ep: 8, taked: 2.970, train_loss: 0.042306018881301616, train_acc: 0.9865666666666667, test_loss: 0.15049472956852697, test_acc: 0.9665\n",
      "ep: 9, taked: 2.865, train_loss: 0.04019791299596112, train_acc: 0.9869833333333333, test_loss: 0.13765097629886897, test_acc: 0.9691\n"
     ]
    }
   ],
   "source": [
    "trainer = torch.optim.Adam(model.parameters(), lr=.01, weight_decay=.00001)\n",
    "train_model()"
   ]
  },
  {
   "cell_type": "markdown",
   "id": "42afb995-c721-4bc9-800b-f78238382334",
   "metadata": {},
   "source": [
    "## Расширенная модель c новыми вложенными слоями, оптимизатор ADAM "
   ]
  },
  {
   "cell_type": "code",
   "execution_count": 26,
   "id": "eb148442-17bd-4087-8811-c938a0443151",
   "metadata": {},
   "outputs": [],
   "source": [
    "model = torch.nn.Sequential(\n",
    "    torch.nn.Flatten(),\n",
    "    torch.nn.Linear(784, 512),\n",
    "    torch.nn.ReLU(),\n",
    "    torch.nn.Linear(512, 256),\n",
    "    torch.nn.ReLU(),\n",
    "    torch.nn.Linear(256, 128),\n",
    "    torch.nn.ReLU(),\n",
    "    torch.nn.Linear(128, 10)\n",
    ")\n",
    "trainer = torch.optim.Adam(model.parameters(), lr=.01)"
   ]
  },
  {
   "cell_type": "code",
   "execution_count": 27,
   "id": "8fbd76ba-79f3-4bac-9a9b-fcb513cbfa1c",
   "metadata": {},
   "outputs": [
    {
     "name": "stdout",
     "output_type": "stream",
     "text": [
      "ep: 0, taked: 2.864, train_loss: 0.33688838737125093, train_acc: 0.89765, test_loss: 0.2208868912421167, test_acc: 0.9352\n",
      "ep: 1, taked: 2.830, train_loss: 0.1323227901308936, train_acc: 0.9611166666666666, test_loss: 0.13094604073558003, test_acc: 0.9639\n",
      "ep: 2, taked: 2.839, train_loss: 0.09295476523842267, train_acc: 0.9734166666666667, test_loss: 0.1277302926609991, test_acc: 0.9688\n",
      "ep: 3, taked: 2.834, train_loss: 0.0827249093971988, train_acc: 0.9754166666666667, test_loss: 0.12029314061292098, test_acc: 0.9704\n",
      "ep: 4, taked: 2.859, train_loss: 0.0697178323693732, train_acc: 0.9793666666666667, test_loss: 0.17237889487532812, test_acc: 0.9614\n",
      "ep: 5, taked: 2.830, train_loss: 0.06685882171695219, train_acc: 0.9799166666666667, test_loss: 0.15388997847912833, test_acc: 0.9678\n",
      "ep: 6, taked: 2.810, train_loss: 0.07211822369433146, train_acc: 0.9800666666666666, test_loss: 0.14082879549387145, test_acc: 0.9699\n",
      "ep: 7, taked: 2.823, train_loss: 0.05568225264073686, train_acc: 0.9838166666666667, test_loss: 0.1496566735938359, test_acc: 0.9694\n",
      "ep: 8, taked: 2.827, train_loss: 0.056623748904886716, train_acc: 0.9843166666666666, test_loss: 0.1346288013184676, test_acc: 0.9718\n",
      "ep: 9, taked: 2.868, train_loss: 0.05342155059482506, train_acc: 0.9850333333333333, test_loss: 0.1721201966021752, test_acc: 0.9689\n"
     ]
    }
   ],
   "source": [
    "train_model()"
   ]
  },
  {
   "cell_type": "code",
   "execution_count": 28,
   "id": "81088145-d252-406c-96b7-72a0fa794d9e",
   "metadata": {},
   "outputs": [
    {
     "name": "stdout",
     "output_type": "stream",
     "text": [
      "ep: 0, taked: 2.817, train_loss: 0.07399510852249458, train_acc: 0.98145, test_loss: 0.15103355180472136, test_acc: 0.9687\n",
      "ep: 1, taked: 2.819, train_loss: 0.05989445929039032, train_acc: 0.984, test_loss: 0.1374051682651043, test_acc: 0.9686\n",
      "ep: 2, taked: 2.831, train_loss: 0.04733505429937802, train_acc: 0.9868166666666667, test_loss: 0.14348005824722349, test_acc: 0.9715\n",
      "ep: 3, taked: 2.837, train_loss: 0.05404503925485497, train_acc: 0.9851166666666666, test_loss: 0.15068912280894436, test_acc: 0.9692\n",
      "ep: 4, taked: 2.840, train_loss: 0.051904101006964104, train_acc: 0.9857833333333333, test_loss: 0.1602115301277081, test_acc: 0.9675\n",
      "ep: 5, taked: 2.842, train_loss: 0.0472360121111009, train_acc: 0.98715, test_loss: 0.13363377345914956, test_acc: 0.9755\n",
      "ep: 6, taked: 2.818, train_loss: 0.043474548553770524, train_acc: 0.9877833333333333, test_loss: 0.15744542738557357, test_acc: 0.9696\n",
      "ep: 7, taked: 2.818, train_loss: 0.04628770930415138, train_acc: 0.9874166666666667, test_loss: 0.12327978504763451, test_acc: 0.9747\n",
      "ep: 8, taked: 2.843, train_loss: 0.042011183619677546, train_acc: 0.98845, test_loss: 0.1443997355076135, test_acc: 0.9719\n",
      "ep: 9, taked: 2.816, train_loss: 0.04182112217370539, train_acc: 0.9885333333333334, test_loss: 0.13891029441147112, test_acc: 0.9704\n"
     ]
    }
   ],
   "source": [
    "trainer = torch.optim.Adam(model.parameters(), lr=.01, weight_decay=.00001)\n",
    "train_model()"
   ]
  },
  {
   "cell_type": "code",
   "execution_count": 30,
   "id": "06b9480a-b0d3-4d76-ba2f-d69e285db4d6",
   "metadata": {},
   "outputs": [
    {
     "name": "stdout",
     "output_type": "stream",
     "text": [
      "ep: 0, taked: 3.409, train_loss: 0.3868577084642775, train_acc: 0.8830666666666667, test_loss: 0.18940905279014258, test_acc: 0.9488\n",
      "ep: 1, taked: 3.361, train_loss: 0.1495398185037552, train_acc: 0.9595, test_loss: 0.14540453211520799, test_acc: 0.9638\n",
      "ep: 2, taked: 3.358, train_loss: 0.1182873045668957, train_acc: 0.9681, test_loss: 0.15267380598234012, test_acc: 0.9635\n",
      "ep: 3, taked: 3.344, train_loss: 0.10211818856286242, train_acc: 0.9722333333333333, test_loss: 0.18451977834047284, test_acc: 0.9544\n",
      "ep: 4, taked: 3.368, train_loss: 0.0883698287033575, train_acc: 0.9760333333333333, test_loss: 0.1517584828354302, test_acc: 0.9702\n",
      "ep: 5, taked: 3.351, train_loss: 0.07825563163991939, train_acc: 0.9782666666666666, test_loss: 0.1243143544328376, test_acc: 0.9744\n",
      "ep: 6, taked: 3.365, train_loss: 0.07498621378970788, train_acc: 0.9807333333333333, test_loss: 0.16913745864585508, test_acc: 0.9682\n",
      "ep: 7, taked: 3.344, train_loss: 0.14683258662277715, train_acc: 0.9685166666666667, test_loss: 0.23013289148220792, test_acc: 0.9612\n",
      "ep: 8, taked: 3.343, train_loss: 0.11013145450740419, train_acc: 0.9746333333333334, test_loss: 0.21504946306813508, test_acc: 0.9677\n",
      "ep: 9, taked: 3.406, train_loss: 0.07759338415604322, train_acc: 0.9803166666666666, test_loss: 0.16736929112230428, test_acc: 0.9699\n"
     ]
    }
   ],
   "source": [
    "model = torch.nn.Sequential(\n",
    "    torch.nn.Flatten(),\n",
    "    torch.nn.Linear(784, 512),\n",
    "    torch.nn.ReLU(),\n",
    "    torch.nn.Linear(512, 420),\n",
    "    torch.nn.ReLU(),\n",
    "    torch.nn.Linear(420, 256),\n",
    "    torch.nn.ReLU(),\n",
    "    torch.nn.Linear(256, 128),\n",
    "    torch.nn.ReLU(),\n",
    "    torch.nn.Linear(128, 10)\n",
    ")\n",
    "trainer = torch.optim.Adam(model.parameters(), lr=.01)\n",
    "train_model()"
   ]
  },
  {
   "cell_type": "markdown",
   "id": "ed042bb5-8591-4cf7-a6a2-05867af46e96",
   "metadata": {},
   "source": [
    "###  batchnorm-слои"
   ]
  },
  {
   "cell_type": "code",
   "execution_count": 31,
   "id": "89645b18-f776-4708-b0bc-210655d9a53d",
   "metadata": {},
   "outputs": [
    {
     "name": "stdout",
     "output_type": "stream",
     "text": [
      "ep: 0, taked: 3.086, train_loss: 0.19915773247546972, train_acc: 0.9393, test_loss: 0.13939199645537884, test_acc: 0.9573\n",
      "ep: 1, taked: 2.989, train_loss: 0.09899997916865222, train_acc: 0.9696666666666667, test_loss: 0.11155526147922501, test_acc: 0.965\n",
      "ep: 2, taked: 2.972, train_loss: 0.07025942366094666, train_acc: 0.9783666666666667, test_loss: 0.10770108699216507, test_acc: 0.9665\n",
      "ep: 3, taked: 2.963, train_loss: 0.05529376497700256, train_acc: 0.9822833333333333, test_loss: 0.13164326834958046, test_acc: 0.9638\n",
      "ep: 4, taked: 2.966, train_loss: 0.04481163256841295, train_acc: 0.9856833333333334, test_loss: 0.09870837096950709, test_acc: 0.9733\n",
      "ep: 5, taked: 2.951, train_loss: 0.03749513915700323, train_acc: 0.9876666666666667, test_loss: 0.10809384790991317, test_acc: 0.9698\n",
      "ep: 6, taked: 2.935, train_loss: 0.031934654292591076, train_acc: 0.9891666666666666, test_loss: 0.117412916617468, test_acc: 0.9679\n",
      "ep: 7, taked: 2.915, train_loss: 0.02717084988699037, train_acc: 0.9909666666666667, test_loss: 0.09431637714951649, test_acc: 0.9748\n",
      "ep: 8, taked: 2.887, train_loss: 0.021826386391779685, train_acc: 0.99265, test_loss: 0.11090946331514714, test_acc: 0.9731\n",
      "ep: 9, taked: 2.922, train_loss: 0.020891970260801942, train_acc: 0.9932833333333333, test_loss: 0.11088346879519122, test_acc: 0.9745\n"
     ]
    }
   ],
   "source": [
    "model = torch.nn.Sequential(\n",
    "    torch.nn.Flatten(),\n",
    "    torch.nn.Linear(784, 512),\n",
    "    torch.nn.ReLU(),\n",
    "    torch.nn.BatchNorm1d(512),\n",
    "    torch.nn.Linear(512, 256),\n",
    "    torch.nn.ReLU(),\n",
    "    torch.nn.BatchNorm1d(256),\n",
    "    torch.nn.Linear(256, 128),\n",
    "    torch.nn.ReLU(),\n",
    "    torch.nn.BatchNorm1d(128),\n",
    "    torch.nn.Linear(128, 10)\n",
    ")\n",
    "trainer = torch.optim.Adam(model.parameters(), lr=.01)\n",
    "train_model()"
   ]
  },
  {
   "cell_type": "code",
   "execution_count": 32,
   "id": "de88718e-f0f0-4d5a-a14b-1adb52260e06",
   "metadata": {},
   "outputs": [
    {
     "name": "stdout",
     "output_type": "stream",
     "text": [
      "ep: 0, taked: 3.704, train_loss: 0.21234287453141618, train_acc: 0.93455, test_loss: 0.1438282665796578, test_acc: 0.9574\n",
      "ep: 1, taked: 3.588, train_loss: 0.10895801110866855, train_acc: 0.9665166666666667, test_loss: 0.12667159093543887, test_acc: 0.9617\n",
      "ep: 2, taked: 3.600, train_loss: 0.07661025325787511, train_acc: 0.9767833333333333, test_loss: 0.10266554319532588, test_acc: 0.9691\n",
      "ep: 3, taked: 3.577, train_loss: 0.05759265441843804, train_acc: 0.98275, test_loss: 0.10103279988688882, test_acc: 0.9704\n",
      "ep: 4, taked: 3.595, train_loss: 0.050247343142635806, train_acc: 0.9841666666666666, test_loss: 0.11500746359670302, test_acc: 0.9675\n",
      "ep: 5, taked: 3.586, train_loss: 0.0412614957100038, train_acc: 0.9871, test_loss: 0.08598435341918957, test_acc: 0.9761\n",
      "ep: 6, taked: 3.598, train_loss: 0.034423861003783036, train_acc: 0.9894, test_loss: 0.10051494324070517, test_acc: 0.9745\n",
      "ep: 7, taked: 3.577, train_loss: 0.029406855189479254, train_acc: 0.99045, test_loss: 0.08387665416958043, test_acc: 0.979\n",
      "ep: 8, taked: 3.603, train_loss: 0.02540013195396936, train_acc: 0.9918166666666667, test_loss: 0.10188079712388572, test_acc: 0.9735\n",
      "ep: 9, taked: 3.575, train_loss: 0.022906658622099365, train_acc: 0.9926833333333334, test_loss: 0.11717848103144206, test_acc: 0.9706\n"
     ]
    }
   ],
   "source": [
    "model = torch.nn.Sequential(\n",
    "    torch.nn.Flatten(),\n",
    "    torch.nn.Linear(784, 512),\n",
    "    torch.nn.ReLU(),\n",
    "    torch.nn.BatchNorm1d(512),\n",
    "    torch.nn.Linear(512, 420),\n",
    "    torch.nn.ReLU(),\n",
    "    torch.nn.BatchNorm1d(420),\n",
    "    torch.nn.Linear(420, 256),\n",
    "    torch.nn.ReLU(),\n",
    "    torch.nn.BatchNorm1d(256),    \n",
    "    torch.nn.Linear(256, 128),\n",
    "    torch.nn.ReLU(),\n",
    "    torch.nn.BatchNorm1d(128),\n",
    "    torch.nn.Linear(128, 10)\n",
    ")\n",
    "trainer = torch.optim.Adam(model.parameters(), lr=.01)\n",
    "train_model()"
   ]
  },
  {
   "cell_type": "code",
   "execution_count": 34,
   "id": "4c101926-b0ff-4815-9b72-bef449973717",
   "metadata": {},
   "outputs": [
    {
     "name": "stdout",
     "output_type": "stream",
     "text": [
      "ep: 0, taked: 3.591, train_loss: 0.1977269309751214, train_acc: 0.9409166666666666, test_loss: 0.19732959512621165, test_acc: 0.9393\n",
      "ep: 1, taked: 3.549, train_loss: 0.1340564734243015, train_acc: 0.9599833333333333, test_loss: 0.13256317247869448, test_acc: 0.9581\n",
      "ep: 2, taked: 3.352, train_loss: 0.11004191231616633, train_acc: 0.9673833333333334, test_loss: 0.15802564211189746, test_acc: 0.9537\n",
      "ep: 3, taked: 3.299, train_loss: 0.09915403906414483, train_acc: 0.9710666666666666, test_loss: 0.13424973711953497, test_acc: 0.9599\n",
      "ep: 4, taked: 3.246, train_loss: 0.0942427350723363, train_acc: 0.9717, test_loss: 0.13192429919727147, test_acc: 0.9608\n",
      "ep: 5, taked: 3.181, train_loss: 0.08797780507977339, train_acc: 0.9730333333333333, test_loss: 0.12880568424589, test_acc: 0.9594\n",
      "ep: 6, taked: 3.198, train_loss: 0.08429147851593952, train_acc: 0.9742666666666666, test_loss: 0.14558879599208013, test_acc: 0.9564\n",
      "ep: 7, taked: 3.183, train_loss: 0.08071565100170196, train_acc: 0.9755, test_loss: 0.13568154311506078, test_acc: 0.9594\n",
      "ep: 8, taked: 3.233, train_loss: 0.08019880648068291, train_acc: 0.9749666666666666, test_loss: 0.12664239243604242, test_acc: 0.9606\n",
      "ep: 9, taked: 3.215, train_loss: 0.07637409345108144, train_acc: 0.9764833333333334, test_loss: 0.13086358869331888, test_acc: 0.9617\n"
     ]
    }
   ],
   "source": [
    "trainer = torch.optim.Adam(model.parameters(), lr=.01, weight_decay=.0001)\n",
    "train_model()"
   ]
  },
  {
   "cell_type": "markdown",
   "id": "b03e2729-ee7c-4f1e-8681-32e3a359ea37",
   "metadata": {},
   "source": [
    "#### Dropout"
   ]
  },
  {
   "cell_type": "code",
   "execution_count": 35,
   "id": "d47fc274-9044-49ac-b7eb-e063b9dde846",
   "metadata": {},
   "outputs": [
    {
     "name": "stdout",
     "output_type": "stream",
     "text": [
      "ep: 0, taked: 2.930, train_loss: 0.3543879445166664, train_acc: 0.8937, test_loss: 0.17920149893034248, test_acc: 0.9499\n",
      "ep: 1, taked: 2.970, train_loss: 0.19751442868975883, train_acc: 0.94685, test_loss: 0.14825560890603812, test_acc: 0.9622\n",
      "ep: 2, taked: 2.829, train_loss: 0.16453508638004039, train_acc: 0.95595, test_loss: 0.13827614121255466, test_acc: 0.9635\n",
      "ep: 3, taked: 2.839, train_loss: 0.15545102543732586, train_acc: 0.959, test_loss: 0.13475088756822515, test_acc: 0.9653\n",
      "ep: 4, taked: 2.821, train_loss: 0.16738111031578576, train_acc: 0.9571, test_loss: 0.12200984655355569, test_acc: 0.9716\n",
      "ep: 5, taked: 2.810, train_loss: 0.16532057692554403, train_acc: 0.9583, test_loss: 0.14407126301521203, test_acc: 0.9658\n",
      "ep: 6, taked: 2.830, train_loss: 0.15878582276562428, train_acc: 0.9607166666666667, test_loss: 0.12117016334232175, test_acc: 0.9717\n",
      "ep: 7, taked: 2.821, train_loss: 0.15263730226718683, train_acc: 0.96185, test_loss: 0.16454848424532997, test_acc: 0.9685\n",
      "ep: 8, taked: 2.868, train_loss: 0.14570724290022824, train_acc: 0.9633666666666667, test_loss: 0.14968746331068133, test_acc: 0.9681\n",
      "ep: 9, taked: 2.818, train_loss: 0.14863699619123277, train_acc: 0.9644833333333334, test_loss: 0.13586434049041998, test_acc: 0.9726\n"
     ]
    }
   ],
   "source": [
    "model = torch.nn.Sequential(\n",
    "    torch.nn.Flatten(),\n",
    "    torch.nn.Linear(784, 420),\n",
    "    torch.nn.ReLU(),\n",
    "    torch.nn.Dropout(0.2),\n",
    "    torch.nn.Linear(420, 256),\n",
    "    torch.nn.ReLU(),\n",
    "    torch.nn.Dropout(0.2),\n",
    "    torch.nn.Linear(256, 128),\n",
    "    torch.nn.ReLU(),\n",
    "    torch.nn.Dropout(0.2),\n",
    "    torch.nn.Linear(128, 10)\n",
    ")\n",
    "trainer = torch.optim.Adam(model.parameters(), lr=.01)\n",
    "train_model()"
   ]
  },
  {
   "cell_type": "markdown",
   "id": "fb412f4e-97ba-4e2e-822c-7ce58f8fac53",
   "metadata": {},
   "source": [
    "## Batch слой и Dropout слой"
   ]
  },
  {
   "cell_type": "code",
   "execution_count": 36,
   "id": "92123c76-99b2-4f8e-af66-93ac84b78775",
   "metadata": {},
   "outputs": [
    {
     "name": "stdout",
     "output_type": "stream",
     "text": [
      "ep: 0, taked: 3.268, train_loss: 0.23374723142131845, train_acc: 0.9284333333333333, test_loss: 0.13304949760204182, test_acc: 0.9585\n",
      "ep: 1, taked: 3.272, train_loss: 0.1313686349726421, train_acc: 0.9598833333333333, test_loss: 0.10853744776686654, test_acc: 0.9641\n",
      "ep: 2, taked: 3.245, train_loss: 0.100949395981003, train_acc: 0.9691, test_loss: 0.10122985987109132, test_acc: 0.9689\n",
      "ep: 3, taked: 3.291, train_loss: 0.08352582965521736, train_acc: 0.9745, test_loss: 0.10269346039858647, test_acc: 0.9686\n",
      "ep: 4, taked: 3.181, train_loss: 0.07224755988238339, train_acc: 0.9777666666666667, test_loss: 0.08616987960485858, test_acc: 0.9756\n",
      "ep: 5, taked: 3.260, train_loss: 0.06260753465776747, train_acc: 0.9801333333333333, test_loss: 0.09228396331891417, test_acc: 0.9743\n",
      "ep: 6, taked: 3.260, train_loss: 0.05875541496665237, train_acc: 0.9810166666666666, test_loss: 0.07375505996024004, test_acc: 0.9771\n",
      "ep: 7, taked: 3.259, train_loss: 0.04936894037503194, train_acc: 0.9841, test_loss: 0.08436285806528758, test_acc: 0.9746\n",
      "ep: 8, taked: 3.243, train_loss: 0.04795266962709262, train_acc: 0.9846666666666667, test_loss: 0.08506203725992237, test_acc: 0.9767\n",
      "ep: 9, taked: 3.270, train_loss: 0.04571278778875762, train_acc: 0.9852666666666666, test_loss: 0.08236173589739337, test_acc: 0.9764\n"
     ]
    }
   ],
   "source": [
    "model = torch.nn.Sequential(\n",
    "    torch.nn.Flatten(),\n",
    "    torch.nn.Linear(784, 420),\n",
    "    torch.nn.ReLU(),\n",
    "    torch.nn.BatchNorm1d(420),\n",
    "    torch.nn.Dropout(0.2),\n",
    "\n",
    "    torch.nn.Linear(420, 256),\n",
    "    torch.nn.ReLU(),\n",
    "    torch.nn.BatchNorm1d(256),\n",
    "    torch.nn.Dropout(0.2),\n",
    "\n",
    "    torch.nn.Linear(256, 128),\n",
    "    torch.nn.ReLU(),\n",
    "    torch.nn.BatchNorm1d(128),\n",
    "    torch.nn.Dropout(0.2),\n",
    "\n",
    "    torch.nn.Linear(128, 10)\n",
    ")\n",
    "trainer = torch.optim.Adam(model.parameters(), lr=.01)\n",
    "train_model()"
   ]
  },
  {
   "cell_type": "markdown",
   "id": "e7135c22-f369-4d92-9f39-1ea5d1a41a04",
   "metadata": {},
   "source": [
    "# Вывод: \n",
    "- максимальная точность для тестовой выборки 0.9764 и модели содержащей как batch (нормализацию) и Dropout (забывания ) слои"
   ]
  }
 ],
 "metadata": {
  "kernelspec": {
   "display_name": "Python 3 (ipykernel)",
   "language": "python",
   "name": "python3"
  },
  "language_info": {
   "codemirror_mode": {
    "name": "ipython",
    "version": 3
   },
   "file_extension": ".py",
   "mimetype": "text/x-python",
   "name": "python",
   "nbconvert_exporter": "python",
   "pygments_lexer": "ipython3",
   "version": "3.12.5"
  }
 },
 "nbformat": 4,
 "nbformat_minor": 5
}
