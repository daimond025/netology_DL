{
 "cells": [
  {
   "cell_type": "code",
   "execution_count": 51,
   "id": "initial_id",
   "metadata": {
    "ExecuteTime": {
     "end_time": "2024-12-23T17:37:20.809771Z",
     "start_time": "2024-12-23T17:37:20.807610Z"
    }
   },
   "outputs": [],
   "source": [
    "%matplotlib inline"
   ]
  },
  {
   "cell_type": "code",
   "execution_count": 52,
   "id": "c6dd37a9-64e4-4cdc-bc14-ea0b6b41919b",
   "metadata": {},
   "outputs": [],
   "source": [
    "from io import open\n",
    "import unicodedata\n",
    "import string\n",
    "import re\n",
    "import random\n",
    "\n",
    "import torch\n",
    "import torch.nn as nn\n",
    "from torch import optim\n",
    "import torch.nn.functional as F\n",
    "\n",
    "device = torch.device(\"cuda\" if torch.cuda.is_available() else \"cpu\")"
   ]
  },
  {
   "cell_type": "code",
   "execution_count": 53,
   "id": "f79b4892-64bb-43d4-81a5-34acf5a1346b",
   "metadata": {},
   "outputs": [
    {
     "data": {
      "text/plain": [
       "device(type='cuda')"
      ]
     },
     "execution_count": 53,
     "metadata": {},
     "output_type": "execute_result"
    }
   ],
   "source": [
    "device"
   ]
  },
  {
   "cell_type": "code",
   "execution_count": 54,
   "id": "94e0ddfc7221abcd",
   "metadata": {},
   "outputs": [],
   "source": [
    "SOS_token = 0\n",
    "EOS_token = 1\n",
    "class Lang:\n",
    "    def __init__(self, name= r'eng'):\n",
    "        self.name = name\n",
    "        self.word2index = {}\n",
    "        self.word2count = {}\n",
    "        self.index2word = {0: \"SOS\", 1: \"EOS\"}\n",
    "        self.n_words = 2  # Count SOS and EOS\n",
    "\n",
    "    def addSentence(self, sentence):\n",
    "        for word in sentence.split(' '):\n",
    "            self.addWord(word)\n",
    "\n",
    "    def addWord(self, word):\n",
    "        if word not in self.word2index:\n",
    "            self.word2index[word] = self.n_words\n",
    "            self.word2count[word] = 1\n",
    "            self.index2word[self.n_words] = word\n",
    "            self.n_words += 1\n",
    "        else:\n",
    "            self.word2count[word] += 1"
   ]
  },
  {
   "cell_type": "code",
   "execution_count": 55,
   "id": "f950dee2-81a2-4e86-a070-29c41837b703",
   "metadata": {},
   "outputs": [],
   "source": [
    "# Turn a Unicode string to plain ASCII, thanks to\n",
    "# http://stackoverflow.com/a/518232/2809427\n",
    "def unicodeToAscii(s):\n",
    "    return ''.join(\n",
    "        c for c in unicodedata.normalize('NFD', s) if unicodedata.category(c) != 'Mn'\n",
    "    )\n",
    "def normalizeString(s, rus = False):\n",
    "    s = unicodeToAscii(s.lower().strip())\n",
    "    s = re.sub(r\"([.!?])\", r\" \\1\", s)\n",
    "    s = re.sub(r\"([\\s+])\", r\" \", s)\n",
    "    if rus:\n",
    "        s = re.sub(r\"[^а-яА-ЯёЁ.!?]+\", r\" \", s)\n",
    "    else:\n",
    "        s = re.sub(r\"[^a-zA-Z.!?]+\", r\" \", s)\n",
    "    return s\n",
    "def readLangs(lang1, lang2, reverse=False):\n",
    "    print(\"Reading lines...\")\n",
    "\n",
    "    # Read the file and split into lines\n",
    "    if lang2 is not None:\n",
    "        lines = open('data/%s-%s.txt' % (lang1, lang2), encoding='utf-8').read().strip().split('\\n')\n",
    "        pairs = [[normalizeString(s) for s in l.split('\\t')] for l in lines]\n",
    "    else:\n",
    "        lines = open('data/%s.txt' % (lang1), encoding='utf-8').read().strip().split('\\n')\n",
    "        lines = [[s for i, s in enumerate(l.split('\\t')) if i in [0,1] ] for l in lines]\n",
    "        pairs = [[ normalizeString(l[0]),normalizeString(l[1], rus=True) ] for l in lines]\n",
    "\n",
    "    # Reverse pairs, make Lang instances\n",
    "    if reverse:\n",
    "        pairs = [list(reversed(p)) for p in pairs]\n",
    "        input_lang = Lang(lang2)\n",
    "        output_lang = Lang(lang1)\n",
    "    else:\n",
    "        input_lang = Lang(lang1)\n",
    "        output_lang = Lang(lang2)\n",
    "    return input_lang, output_lang, pairs"
   ]
  },
  {
   "cell_type": "code",
   "execution_count": 56,
   "id": "17b30d8a-93a2-4a86-b37b-c3aad6a22d06",
   "metadata": {},
   "outputs": [],
   "source": [
    "MAX_LENGTH = 10\n",
    "eng_prefixes = (\n",
    "    \"i am \", \"i m \",\n",
    "    \"he is\", \"he s \",\n",
    "    \"she is\", \"she s\",\n",
    "    \"you are\", \"you re \",\n",
    "    \"we are\", \"we re \",\n",
    "    \"they are\", \"they re \"\n",
    ")\n",
    "def filterPair(p):\n",
    "    return len(p[0].split(' ')) < MAX_LENGTH and len(p[1].split(' ')) < MAX_LENGTH and p[1].startswith(eng_prefixes)\n",
    "\n",
    "def filterPairs(pairs):\n",
    "    return [pair for pair in pairs if filterPair(pair)]\n",
    "\n",
    "def prepareData(lang1, lang2 =None, reverse=False):\n",
    "    input_lang, output_lang, pairs = readLangs(lang1, lang2, reverse)\n",
    "\n",
    "    print(\"Read %s sentence pairs\" % len(pairs))\n",
    "    pairs = filterPairs(pairs)\n",
    "    print(\"Trimmed to %s sentence pairs\" % len(pairs))\n",
    "    print(\"Counting words...\")\n",
    "    for pair in pairs:\n",
    "        input_lang.addSentence(pair[0])\n",
    "        output_lang.addSentence(pair[1])\n",
    "    print(\"Counted words:\")\n",
    "    print(input_lang.name, input_lang.n_words)\n",
    "    print(output_lang.name, output_lang.n_words)\n",
    "    return input_lang, output_lang, pairs"
   ]
  },
  {
   "cell_type": "code",
   "execution_count": 57,
   "id": "f0b2c164-7135-45cc-b0e7-c42802fadafa",
   "metadata": {},
   "outputs": [
    {
     "name": "stdout",
     "output_type": "stream",
     "text": [
      "Reading lines...\n",
      "Read 496059 sentence pairs\n",
      "Trimmed to 28719 sentence pairs\n",
      "Counting words...\n",
      "Counted words:\n",
      "None 10174\n",
      "rus 4303\n"
     ]
    }
   ],
   "source": [
    "input_lang, output_lang, pairs = prepareData('rus', None, True)"
   ]
  },
  {
   "cell_type": "code",
   "execution_count": 11,
   "id": "f599ebce-e560-4cc8-b666-61d89d845f8e",
   "metadata": {},
   "outputs": [
    {
     "data": {
      "text/plain": [
       "['она улыбнулась в ответ на его нежныи взгляд .',\n",
       " 'she smiled in response to his affectionate glance .']"
      ]
     },
     "execution_count": 11,
     "metadata": {},
     "output_type": "execute_result"
    }
   ],
   "source": [
    "pairs[-5]"
   ]
  },
  {
   "cell_type": "markdown",
   "id": "f00536e7-32c3-4a84-a66c-d50355bc4912",
   "metadata": {},
   "source": [
    "# The Encoder"
   ]
  },
  {
   "cell_type": "code",
   "execution_count": 59,
   "id": "481d2ad0-9f23-4707-8a4e-b23df852d8f3",
   "metadata": {},
   "outputs": [],
   "source": [
    "class EncoderRNN(nn.Module):\n",
    "    def __init__(self, input_size, hidden_size):\n",
    "        super(EncoderRNN, self).__init__()\n",
    "        self.hidden_size = hidden_size\n",
    "\n",
    "        self.embedding = nn.Embedding(input_size, hidden_size)\n",
    "        self.gru = nn.GRU(hidden_size, hidden_size)\n",
    "\n",
    "    def forward(self, input, hidden):\n",
    "        embedded = self.embedding(input).view(1, 1, -1)\n",
    "        output = embedded\n",
    "        output, hidden = self.gru(output, hidden)\n",
    "        return output, hidden\n",
    "\n",
    "    def initHidden(self):\n",
    "        return torch.zeros(1, 1, self.hidden_size, device=device)"
   ]
  },
  {
   "cell_type": "code",
   "execution_count": 60,
   "id": "c9e52901-8ce1-407d-98f0-c9b621f53300",
   "metadata": {},
   "outputs": [],
   "source": [
    "class AttnDecoderRNN(nn.Module):\n",
    "    def __init__(self, hidden_size, output_size, dropout_p=0.1, max_length=MAX_LENGTH):\n",
    "        super(AttnDecoderRNN, self).__init__()\n",
    "        self.hidden_size = hidden_size\n",
    "        self.output_size = output_size\n",
    "        self.dropout_p = dropout_p\n",
    "        self.max_length = max_length\n",
    "\n",
    "        self.embedding = nn.Embedding(self.output_size, self.hidden_size)\n",
    "        self.attn = nn.Linear(self.hidden_size * 2, self.max_length)\n",
    "        self.attn_combine = nn.Linear(self.hidden_size * 2, self.hidden_size)\n",
    "        self.dropout = nn.Dropout(self.dropout_p)\n",
    "        self.gru = nn.GRU(self.hidden_size, self.hidden_size)\n",
    "        self.out = nn.Linear(self.hidden_size, self.output_size)\n",
    "\n",
    "    def forward(self, input, hidden, encoder_outputs):\n",
    "        embedded = self.embedding(input).view(1, 1, -1)\n",
    "        embedded = self.dropout(embedded)\n",
    "\n",
    "        attn_weights = F.softmax(self.attn(torch.cat((embedded[0], hidden[0]), 1)), dim=1)\n",
    "        attn_applied = torch.bmm(attn_weights.unsqueeze(0), encoder_outputs.unsqueeze(0))\n",
    "\n",
    "        output = torch.cat((embedded[0], attn_applied[0]), 1)\n",
    "        output = self.attn_combine(output).unsqueeze(0)\n",
    "\n",
    "        output = F.relu(output)\n",
    "        output, hidden = self.gru(output, hidden)\n",
    "\n",
    "        output = F.log_softmax(self.out(output[0]), dim=1)\n",
    "        return output, hidden, attn_weights\n",
    "\n",
    "    def initHidden(self):\n",
    "        return torch.zeros(1, 1, self.hidden_size, device=device)"
   ]
  },
  {
   "cell_type": "code",
   "execution_count": 61,
   "id": "8a1f6b70-7feb-4e44-b862-61c6ce24f1e4",
   "metadata": {},
   "outputs": [],
   "source": [
    "def indexesFromSentence(lang, sentence):\n",
    "    return [lang.word2index[word] for word in sentence.split(' ')]\n",
    "\n",
    "def tensorFromSentence(lang, sentence):\n",
    "    indexes = indexesFromSentence(lang, sentence)\n",
    "    indexes.append(EOS_token)\n",
    "    return torch.tensor(indexes, dtype=torch.long, device=device).view(-1, 1)\n",
    "\n",
    "def tensorsFromPair(pair):\n",
    "    input_tensor = tensorFromSentence(input_lang, pair[0])\n",
    "    target_tensor = tensorFromSentence(output_lang, pair[1])\n",
    "    return (input_tensor, target_tensor)"
   ]
  },
  {
   "cell_type": "code",
   "execution_count": 62,
   "id": "bb4a9603-d012-4fcb-abff-4345677c09e7",
   "metadata": {},
   "outputs": [],
   "source": [
    "teacher_forcing_ratio = 0.5\n",
    "def train(input_tensor, target_tensor, encoder, decoder, encoder_optimizer, decoder_optimizer, criterion, max_length=MAX_LENGTH):\n",
    "    encoder_hidden = encoder.initHidden()\n",
    "\n",
    "    encoder_optimizer.zero_grad()\n",
    "    decoder_optimizer.zero_grad()\n",
    "\n",
    "    input_length = input_tensor.size(0)\n",
    "    target_length = target_tensor.size(0)\n",
    "\n",
    "    encoder_outputs = torch.zeros(max_length, encoder.hidden_size, device=device)\n",
    "\n",
    "    loss = 0\n",
    "\n",
    "    for ei in range(input_length):\n",
    "        encoder_output, encoder_hidden = encoder(\n",
    "            input_tensor[ei], encoder_hidden)\n",
    "        encoder_outputs[ei] = encoder_output[0, 0]\n",
    "\n",
    "    decoder_input = torch.tensor([[SOS_token]], device=device)\n",
    "\n",
    "    decoder_hidden = encoder_hidden\n",
    "\n",
    "    use_teacher_forcing = True if random.random() < teacher_forcing_ratio else False\n",
    "\n",
    "    if use_teacher_forcing:\n",
    "        # Teacher forcing: Feed the target as the next input\n",
    "        for di in range(target_length):\n",
    "            decoder_output, decoder_hidden, decoder_attention = decoder(\n",
    "                decoder_input, decoder_hidden, encoder_outputs)\n",
    "            loss += criterion(decoder_output, target_tensor[di])\n",
    "            decoder_input = target_tensor[di]  # Teacher forcing\n",
    "\n",
    "    else:\n",
    "        # Without teacher forcing: use its own predictions as the next input\n",
    "        for di in range(target_length):\n",
    "            decoder_output, decoder_hidden, decoder_attention = decoder(\n",
    "                decoder_input, decoder_hidden, encoder_outputs)\n",
    "            topv, topi = decoder_output.topk(1)\n",
    "            decoder_input = topi.squeeze().detach()  # detach from history as input\n",
    "\n",
    "            loss += criterion(decoder_output, target_tensor[di])\n",
    "            if decoder_input.item() == EOS_token:\n",
    "                break\n",
    "\n",
    "    loss.backward()\n",
    "\n",
    "    encoder_optimizer.step()\n",
    "    decoder_optimizer.step()\n",
    "\n",
    "    return loss.item() / target_length"
   ]
  },
  {
   "cell_type": "code",
   "execution_count": 63,
   "id": "feecdc68-0298-4281-b362-a170f4210669",
   "metadata": {},
   "outputs": [
    {
     "name": "stderr",
     "output_type": "stream",
     "text": [
      "C:\\Users\\daimond025\\AppData\\Local\\Temp\\ipykernel_217608\\49074703.py:15: MatplotlibDeprecationWarning: Auto-close()ing of figures upon backend switching is deprecated since 3.8 and will be removed in 3.10.  To suppress this warning, explicitly call plt.close('all') first.\n",
      "  plt.switch_backend('agg')\n"
     ]
    }
   ],
   "source": [
    "import time\n",
    "import math\n",
    "def asMinutes(s):\n",
    "    m = math.floor(s / 60)\n",
    "    s -= m * 60\n",
    "    return '%dm %ds' % (m, s)\n",
    "def timeSince(since, percent):\n",
    "    now = time.time()\n",
    "    s = now - since\n",
    "    es = s / (percent)\n",
    "    rs = es - s\n",
    "    return '%s (- %s)' % (asMinutes(s), asMinutes(rs))\n",
    "    \n",
    "import matplotlib.pyplot as plt\n",
    "plt.switch_backend('agg')\n",
    "import matplotlib.ticker as ticker\n",
    "import numpy as np\n",
    "\n",
    "def showPlot(points):\n",
    "    plt.figure()\n",
    "    fig, ax = plt.subplots()\n",
    "    # this locator puts ticks at regular intervals\n",
    "    loc = ticker.MultipleLocator(base=0.2)\n",
    "    ax.yaxis.set_major_locator(loc)\n",
    "    plt.plot(points)"
   ]
  },
  {
   "cell_type": "code",
   "execution_count": 64,
   "id": "81cdf5e6-84ae-48e1-95c3-7fc4a05e2ddc",
   "metadata": {},
   "outputs": [],
   "source": [
    "def trainIters(encoder, decoder, n_iters, print_every=1000, plot_every=100, learning_rate=0.01):\n",
    "    start = time.time()\n",
    "    plot_losses = []\n",
    "    print_loss_total = 0  # Reset every print_every\n",
    "    plot_loss_total = 0  # Reset every plot_every\n",
    "\n",
    "    encoder_optimizer = optim.SGD(encoder.parameters(), lr=learning_rate)\n",
    "    decoder_optimizer = optim.SGD(decoder.parameters(), lr=learning_rate)\n",
    "    training_pairs = [tensorsFromPair(random.choice(pairs))\n",
    "                      for i in range(n_iters)]\n",
    "    criterion = nn.NLLLoss()\n",
    "\n",
    "    for iter in range(1, n_iters + 1):\n",
    "        training_pair = training_pairs[iter - 1]\n",
    "        input_tensor = training_pair[0]\n",
    "        target_tensor = training_pair[1]\n",
    "\n",
    "        loss = train(input_tensor, target_tensor, encoder,\n",
    "                     decoder, encoder_optimizer, decoder_optimizer, criterion)\n",
    "        print_loss_total += loss\n",
    "        plot_loss_total += loss\n",
    "\n",
    "        if iter % print_every == 0:\n",
    "            print_loss_avg = print_loss_total / print_every\n",
    "            print_loss_total = 0\n",
    "            print('%s (%d %d%%) %.4f' % (timeSince(start, iter / n_iters),\n",
    "                                         iter, iter / n_iters * 100, print_loss_avg))\n",
    "\n",
    "        if iter % plot_every == 0:\n",
    "            plot_loss_avg = plot_loss_total / plot_every\n",
    "            plot_losses.append(plot_loss_avg)\n",
    "            plot_loss_total = 0\n",
    "\n",
    "    showPlot(plot_losses)"
   ]
  },
  {
   "cell_type": "code",
   "execution_count": 65,
   "id": "309a781d-2432-48f2-a927-344acde1e254",
   "metadata": {},
   "outputs": [],
   "source": [
    "def evaluate(encoder, decoder, sentence, max_length=MAX_LENGTH):\n",
    "    with torch.no_grad():\n",
    "        input_tensor = tensorFromSentence(input_lang, sentence)\n",
    "        input_length = input_tensor.size()[0]\n",
    "        encoder_hidden = encoder.initHidden()\n",
    "\n",
    "        encoder_outputs = torch.zeros(max_length, encoder.hidden_size, device=device)\n",
    "\n",
    "        for ei in range(input_length):\n",
    "            encoder_output, encoder_hidden = encoder(input_tensor[ei],\n",
    "                                                     encoder_hidden)\n",
    "            encoder_outputs[ei] += encoder_output[0, 0]\n",
    "\n",
    "        decoder_input = torch.tensor([[SOS_token]], device=device)  # SOS\n",
    "\n",
    "        decoder_hidden = encoder_hidden\n",
    "\n",
    "        decoded_words = []\n",
    "        decoder_attentions = torch.zeros(max_length, max_length)\n",
    "\n",
    "        for di in range(max_length):\n",
    "            decoder_output, decoder_hidden, decoder_attention = decoder(\n",
    "                decoder_input, decoder_hidden, encoder_outputs)\n",
    "            decoder_attentions[di] = decoder_attention.data\n",
    "            topv, topi = decoder_output.data.topk(1)\n",
    "            if topi.item() == EOS_token:\n",
    "                decoded_words.append('<EOS>')\n",
    "                break\n",
    "            else:\n",
    "                decoded_words.append(output_lang.index2word[topi.item()])\n",
    "\n",
    "            decoder_input = topi.squeeze().detach()\n",
    "\n",
    "        return decoded_words, decoder_attentions[:di + 1]"
   ]
  },
  {
   "cell_type": "code",
   "execution_count": 66,
   "id": "8d1672ba-1aeb-4f9b-88ac-b5464aae6a62",
   "metadata": {},
   "outputs": [],
   "source": [
    "def evaluateRandomly(encoder, decoder, n=10):\n",
    "    for i in range(n):\n",
    "        pair = random.choice(pairs)\n",
    "        print('>', pair[0])\n",
    "        print('=', pair[1])\n",
    "        output_words, attentions = evaluate(encoder, decoder, pair[0])\n",
    "        output_sentence = ' '.join(output_words)\n",
    "        print('<', output_sentence)\n",
    "        print('')"
   ]
  },
  {
   "cell_type": "code",
   "execution_count": 67,
   "id": "30848bb8-216d-4d90-89b4-191177c88f86",
   "metadata": {},
   "outputs": [
    {
     "name": "stdout",
     "output_type": "stream",
     "text": [
      "1m 3s (- 14m 52s) (5000 6%) 3.0774\n",
      "2m 1s (- 13m 12s) (10000 13%) 2.5843\n",
      "3m 0s (- 12m 2s) (15000 20%) 2.3110\n",
      "3m 58s (- 10m 57s) (20000 26%) 2.1369\n",
      "4m 57s (- 9m 54s) (25000 33%) 1.9868\n",
      "5m 55s (- 8m 53s) (30000 40%) 1.8469\n",
      "6m 53s (- 7m 52s) (35000 46%) 1.7400\n",
      "7m 53s (- 6m 54s) (40000 53%) 1.6686\n",
      "8m 53s (- 5m 55s) (45000 60%) 1.5874\n",
      "9m 52s (- 4m 56s) (50000 66%) 1.4985\n",
      "10m 51s (- 3m 57s) (55000 73%) 1.4394\n",
      "11m 49s (- 2m 57s) (60000 80%) 1.4046\n",
      "12m 47s (- 1m 58s) (65000 86%) 1.3602\n",
      "13m 45s (- 0m 58s) (70000 93%) 1.2932\n",
      "14m 43s (- 0m 0s) (75000 100%) 1.2728\n"
     ]
    }
   ],
   "source": [
    "hidden_size = 256\n",
    "encoder1 = EncoderRNN(input_lang.n_words, hidden_size).to(device)\n",
    "attn_decoder1 = AttnDecoderRNN(hidden_size, output_lang.n_words, dropout_p=0.1).to(device)\n",
    "\n",
    "trainIters(encoder1, attn_decoder1, 75000, print_every=5000)"
   ]
  },
  {
   "cell_type": "code",
   "execution_count": 68,
   "id": "20417581-dd1c-4962-a393-805ec9133d02",
   "metadata": {},
   "outputs": [
    {
     "name": "stdout",
     "output_type": "stream",
     "text": [
      "> они как семья .\n",
      "= they re like family .\n",
      "< they re like a family . <EOS>\n",
      "\n",
      "> я рад что пошел .\n",
      "= i m glad that i went .\n",
      "< i m glad glad was . <EOS>\n",
      "\n",
      "> ты сеичас сердишься .\n",
      "= you re angry now .\n",
      "< you re now now . <EOS>\n",
      "\n",
      "> вы мои гости .\n",
      "= you re my guests .\n",
      "< you re my neighbor . <EOS>\n",
      "\n",
      "> я ужасныи человек .\n",
      "= i m a horrible person .\n",
      "< i m a honest man . <EOS>\n",
      "\n",
      "> сегодня вечером ты необычаино разговорчив .\n",
      "= you re unusually talkative tonight .\n",
      "< you re free to be up up . <EOS>\n",
      "\n",
      "> я уверен что кто нибудь это сделает .\n",
      "= i m sure that somebody will do it .\n",
      "< i m sure that will do that that it .\n",
      "\n",
      "> в какои то степени вы правы .\n",
      "= you are right to a certain extent .\n",
      "< you are the right person right . <EOS>\n",
      "\n",
      "> вы сильныи .\n",
      "= you are strong .\n",
      "< you re strong . <EOS>\n",
      "\n",
      "> я конечно шучу .\n",
      "= i m kidding of course .\n",
      "< i m kidding of . <EOS>\n",
      "\n"
     ]
    }
   ],
   "source": [
    "evaluateRandomly(encoder1, attn_decoder1)"
   ]
  },
  {
   "cell_type": "code",
   "execution_count": 76,
   "id": "e3d1a502-ca8a-4c82-b5ca-605f2ea60c29",
   "metadata": {},
   "outputs": [
    {
     "name": "stderr",
     "output_type": "stream",
     "text": [
      "C:\\Users\\daimond025\\AppData\\Local\\Temp\\ipykernel_217608\\2311955677.py:3: UserWarning: FigureCanvasAgg is non-interactive, and thus cannot be shown\n",
      "  plt.show()\n"
     ]
    }
   ],
   "source": [
    "output_words, attentions = evaluate(encoder1, attn_decoder1, \"я рада что вы не мертвы .\")\n",
    "plt.matshow(attentions.numpy())\n",
    "plt.show()"
   ]
  },
  {
   "cell_type": "markdown",
   "id": "6a653add-390b-4b50-83cb-c889e522574d",
   "metadata": {},
   "source": [
    "# Внимание на базе скалярного протизведения \n",
    "Скалярное произведение расчитывается между векторов эмбединга и скрытым состоянием ( запросом q и ключом k) torch.tensordot(embedded, hidden)\n"
   ]
  },
  {
   "cell_type": "code",
   "execution_count": 42,
   "id": "3298b516-453a-45c0-822a-b0ec6ce24a28",
   "metadata": {},
   "outputs": [],
   "source": [
    "class EncoderRNN(nn.Module):\n",
    "    def __init__(self, input_size, hidden_size):\n",
    "        super(EncoderRNN, self).__init__()\n",
    "        self.hidden_size = hidden_size\n",
    "\n",
    "        self.embedding = nn.Embedding(input_size, hidden_size)\n",
    "        self.gru = nn.GRU(hidden_size, hidden_size)\n",
    "\n",
    "    def forward(self, input, hidden):\n",
    "        embedded = self.embedding(input).view(1, 1, -1)\n",
    "        output = embedded\n",
    "        output, hidden = self.gru(output, hidden)\n",
    "        return output, hidden\n",
    "\n",
    "    def initHidden(self):\n",
    "        return torch.zeros(1, 1, self.hidden_size, device=device)"
   ]
  },
  {
   "cell_type": "code",
   "execution_count": 43,
   "id": "ac7e615b-a998-49b4-8839-408b141fb109",
   "metadata": {},
   "outputs": [],
   "source": [
    "class AttnDecoderRNN(nn.Module):\n",
    "    def __init__(self, hidden_size, output_size, dropout_p=0.1, max_length=MAX_LENGTH):\n",
    "        super(AttnDecoderRNN, self).__init__()\n",
    "        self.hidden_size = hidden_size\n",
    "        self.output_size = output_size\n",
    "        self.dropout_p = dropout_p\n",
    "        self.max_length = max_length\n",
    "\n",
    "        self.embedding = nn.Embedding(self.output_size, self.hidden_size)\n",
    "        self.attn = nn.Linear(self.hidden_size, self.max_length)\n",
    "        self.attn_combine = nn.Linear(self.hidden_size * 2, self.hidden_size)\n",
    "\n",
    "        self.dropout = nn.Dropout(self.dropout_p)\n",
    "        self.gru = nn.GRU(self.hidden_size, self.hidden_size)\n",
    "        self.out = nn.Linear(self.hidden_size, self.output_size)\n",
    "\n",
    "    def forward(self, input, hidden, encoder_outputs):\n",
    "        embedded = self.embedding(input).view(1, 1, -1)\n",
    "        embedded = self.dropout(embedded)\n",
    "        \n",
    "        attn_weights = F.softmax(self.attn(torch.tensordot(embedded, hidden)), dim=1)\n",
    "        attn_applied = torch.bmm(attn_weights.unsqueeze(0), encoder_outputs.unsqueeze(0))\n",
    "\n",
    "        output = torch.cat((embedded[0], attn_applied[0]), 1)\n",
    "        output = self.attn_combine(output).unsqueeze(0)\n",
    "\n",
    "        output = F.relu(output)\n",
    "        output, hidden = self.gru(output, hidden)\n",
    "\n",
    "        output = F.log_softmax(self.out(output[0]), dim=1)\n",
    "        return output, hidden, attn_weights\n",
    "\n",
    "    def initHidden(self):\n",
    "        return torch.zeros(1, 1, self.hidden_size, device=device)"
   ]
  },
  {
   "cell_type": "code",
   "execution_count": 44,
   "id": "fde8cc02-cf9d-457a-9542-e1473f641d74",
   "metadata": {},
   "outputs": [
    {
     "name": "stdout",
     "output_type": "stream",
     "text": [
      "1m 3s (- 14m 54s) (5000 6%) 3.1219\n",
      "2m 4s (- 13m 30s) (10000 13%) 2.6033\n",
      "3m 6s (- 12m 24s) (15000 20%) 2.3779\n",
      "4m 6s (- 11m 16s) (20000 26%) 2.2261\n",
      "5m 5s (- 10m 10s) (25000 33%) 2.0624\n",
      "6m 4s (- 9m 6s) (30000 40%) 1.9575\n",
      "7m 3s (- 8m 4s) (35000 46%) 2.0468\n",
      "8m 3s (- 7m 2s) (40000 53%) 1.9261\n",
      "9m 6s (- 6m 4s) (45000 60%) 1.8569\n",
      "10m 9s (- 5m 4s) (50000 66%) 1.7831\n",
      "11m 12s (- 4m 4s) (55000 73%) 1.7035\n",
      "12m 14s (- 3m 3s) (60000 80%) 1.6755\n",
      "13m 14s (- 2m 2s) (65000 86%) 1.6233\n",
      "14m 13s (- 1m 0s) (70000 93%) 1.5522\n",
      "15m 12s (- 0m 0s) (75000 100%) 1.4898\n"
     ]
    }
   ],
   "source": [
    "hidden_size = 256\n",
    "encoder1 = EncoderRNN(input_lang.n_words, hidden_size).to(device)\n",
    "attn_decoder1 = AttnDecoderRNN(hidden_size, output_lang.n_words, dropout_p=0.1).to(device)\n",
    "\n",
    "trainIters(encoder1, attn_decoder1, 75000, print_every=5000)"
   ]
  },
  {
   "cell_type": "code",
   "execution_count": 45,
   "id": "09e6a922-74ea-4f2e-9344-2c59ffabca2d",
   "metadata": {},
   "outputs": [
    {
     "name": "stdout",
     "output_type": "stream",
     "text": [
      "> мы едим помидоры .\n",
      "= we re eating tomatoes .\n",
      "< we re about the . . <EOS>\n",
      "\n",
      "> ты вдвое старше меня .\n",
      "= you re twice as old as i am .\n",
      "< you re twice as old as me . <EOS>\n",
      "\n",
      "> я стараюсь быть искреннеи .\n",
      "= i m trying to be sincere .\n",
      "< i m trying to be a . <EOS>\n",
      "\n",
      "> мы здесь для того чтобы тебя защитить .\n",
      "= we re here to protect you .\n",
      "< we re here to be here you . <EOS>\n",
      "\n",
      "> мы пытаемся выиграть .\n",
      "= we re trying to win .\n",
      "< we re trying to win . <EOS>\n",
      "\n",
      "> я рад что том благополучно добрался до дома .\n",
      "= i m glad that tom got home safely .\n",
      "< i m glad tom left home home . <EOS>\n",
      "\n",
      "> ты везунчик .\n",
      "= you re the lucky one .\n",
      "< you re a . <EOS>\n",
      "\n",
      "> ты идеален .\n",
      "= you re perfect .\n",
      "< you re perfect . <EOS>\n",
      "\n",
      "> вы бедны .\n",
      "= you re poor .\n",
      "< you re odd . <EOS>\n",
      "\n",
      "> я так рад что вы все здесь .\n",
      "= i m so glad you are all here .\n",
      "< i m so glad you re here . <EOS>\n",
      "\n"
     ]
    }
   ],
   "source": [
    "evaluateRandomly(encoder1, attn_decoder1)"
   ]
  },
  {
   "cell_type": "markdown",
   "id": "dff4458f-eee8-4408-b176-12d0623ec552",
   "metadata": {},
   "source": [
    "# Внимание на базе MLP (однослойной сети)\n",
    "для каждого параметра эмбединга (запроса q) и скрытого состояния ( ключ k) "
   ]
  },
  {
   "cell_type": "code",
   "execution_count": 77,
   "id": "75f15481-69cd-4a17-9de8-ecd4b6b79adc",
   "metadata": {},
   "outputs": [],
   "source": [
    "class EncoderRNN(nn.Module):\n",
    "    def __init__(self, input_size, hidden_size):\n",
    "        super(EncoderRNN, self).__init__()\n",
    "        self.hidden_size = hidden_size\n",
    "\n",
    "        self.embedding = nn.Embedding(input_size, hidden_size)\n",
    "        self.gru = nn.GRU(hidden_size, hidden_size)\n",
    "\n",
    "    def forward(self, input, hidden):\n",
    "        embedded = self.embedding(input).view(1, 1, -1)\n",
    "        output = embedded\n",
    "        output, hidden = self.gru(output, hidden)\n",
    "        return output, hidden\n",
    "\n",
    "    def initHidden(self):\n",
    "        return torch.zeros(1, 1, self.hidden_size, device=device)"
   ]
  },
  {
   "cell_type": "code",
   "execution_count": 78,
   "id": "14af5fba-85f0-48a9-9d96-c3d47ed9971d",
   "metadata": {},
   "outputs": [],
   "source": [
    "class AttnDecoderRNN(nn.Module):\n",
    "    def __init__(self, hidden_size, output_size, dropout_p=0.1, max_length=MAX_LENGTH):\n",
    "        super(AttnDecoderRNN, self).__init__()\n",
    "        self.hidden_size = hidden_size\n",
    "        self.output_size = output_size\n",
    "        self.dropout_p = dropout_p\n",
    "        self.max_length = max_length\n",
    "\n",
    "        self.embedding = nn.Embedding(self.output_size, self.hidden_size)\n",
    "        self.attn_q = nn.Linear(self.hidden_size * 1, self.max_length, bias=False)\n",
    "        self.attn_k = nn.Linear(self.hidden_size * 1, self.max_length, bias=False)\n",
    "\n",
    "        self.attn_combine = nn.Linear(self.hidden_size * 2, self.hidden_size)\n",
    "\n",
    "        self.dropout = nn.Dropout(self.dropout_p)\n",
    "        self.gru = nn.GRU(self.hidden_size, self.hidden_size)\n",
    "        self.out = nn.Linear(self.hidden_size, self.output_size)\n",
    "\n",
    "    def forward(self, input, hidden, encoder_outputs):\n",
    "        embedded = self.embedding(input).view(1, 1, -1)\n",
    "        embedded = self.dropout(embedded)\n",
    "\n",
    "        attn_weights = F.softmax(F.tanh( self.attn_q(embedded[0]) + self.attn_k(hidden[0])))        \n",
    "        attn_applied = torch.bmm(attn_weights.unsqueeze(0), encoder_outputs.unsqueeze(0))\n",
    "\n",
    "        output = torch.cat((embedded[0], attn_applied[0]), 1)\n",
    "        output = self.attn_combine(output).unsqueeze(0)\n",
    "\n",
    "        output = F.relu(output)\n",
    "        output, hidden = self.gru(output, hidden)\n",
    "\n",
    "        output = F.log_softmax(self.out(output[0]), dim=1)\n",
    "        return output, hidden, attn_weights\n",
    "\n",
    "    def initHidden(self):\n",
    "        return torch.zeros(1, 1, self.hidden_size, device=device)"
   ]
  },
  {
   "cell_type": "code",
   "execution_count": 79,
   "id": "cc1accc4-6eca-42f8-a94b-54dbbe4a3742",
   "metadata": {},
   "outputs": [
    {
     "name": "stderr",
     "output_type": "stream",
     "text": [
      "C:\\Users\\daimond025\\AppData\\Local\\Temp\\ipykernel_217608\\2856552015.py:23: UserWarning: Implicit dimension choice for softmax has been deprecated. Change the call to include dim=X as an argument.\n",
      "  attn_weights = F.softmax(F.tanh( self.attn_q(embedded[0]) + self.attn_k(hidden[0])))\n"
     ]
    },
    {
     "name": "stdout",
     "output_type": "stream",
     "text": [
      "1m 4s (- 15m 3s) (5000 6%) 3.1358\n",
      "2m 6s (- 13m 41s) (10000 13%) 2.6013\n",
      "3m 6s (- 12m 27s) (15000 20%) 2.3874\n",
      "4m 6s (- 11m 18s) (20000 26%) 2.1769\n",
      "5m 6s (- 10m 13s) (25000 33%) 2.0061\n",
      "6m 7s (- 9m 11s) (30000 40%) 1.8947\n",
      "7m 7s (- 8m 8s) (35000 46%) 1.8012\n",
      "8m 7s (- 7m 6s) (40000 53%) 1.7244\n",
      "9m 8s (- 6m 5s) (45000 60%) 1.6302\n",
      "10m 9s (- 5m 4s) (50000 66%) 1.5384\n",
      "11m 12s (- 4m 4s) (55000 73%) 1.4711\n",
      "12m 12s (- 3m 3s) (60000 80%) 1.4287\n",
      "13m 12s (- 2m 1s) (65000 86%) 1.3975\n",
      "14m 13s (- 1m 0s) (70000 93%) 1.3010\n",
      "15m 15s (- 0m 0s) (75000 100%) 1.2835\n"
     ]
    }
   ],
   "source": [
    "hidden_size = 256\n",
    "encoder3 = EncoderRNN(input_lang.n_words, hidden_size).to(device)\n",
    "attn_decoder3 = AttnDecoderRNN(hidden_size, output_lang.n_words, dropout_p=0.1).to(device)\n",
    "\n",
    "trainIters(encoder3, attn_decoder3, 75000, print_every=5000)"
   ]
  },
  {
   "cell_type": "markdown",
   "id": "fdf52329-0101-49da-9719-8f568bfe5863",
   "metadata": {},
   "source": [
    "#  Вывод \n",
    "- построена архитектура внимания\n",
    "- вычеслены веса внимания на основе\n",
    "  - соединения эмбединга и скрытого состояния (ошибка 1.27)\n",
    "  - скалярного произведения эмбединга и скрытого состояния (ошибка 1.48)\n",
    "  - основе MLP (ошибка 1.28)\n",
    "\n",
    "Видно что MPL работает лучше чем скалярное произведение"
   ]
  },
  {
   "cell_type": "code",
   "execution_count": null,
   "id": "5318786a-2dbd-4597-8c38-0eb20113a3da",
   "metadata": {},
   "outputs": [],
   "source": []
  }
 ],
 "metadata": {
  "kernelspec": {
   "display_name": "Python 3 (ipykernel)",
   "language": "python",
   "name": "python3"
  },
  "language_info": {
   "codemirror_mode": {
    "name": "ipython",
    "version": 3
   },
   "file_extension": ".py",
   "mimetype": "text/x-python",
   "name": "python",
   "nbconvert_exporter": "python",
   "pygments_lexer": "ipython3",
   "version": "3.12.5"
  }
 },
 "nbformat": 4,
 "nbformat_minor": 5
}
