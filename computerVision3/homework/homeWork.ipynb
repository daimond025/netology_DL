{
 "cells": [
  {
   "cell_type": "code",
   "execution_count": 19,
   "id": "initial_id",
   "metadata": {
    "jupyter": {
     "is_executing": true
    }
   },
   "outputs": [],
   "source": [
    "import time\n",
    "import torch\n",
    "import torch.nn as nn\n",
    "import torch.optim as optim\n",
    "from torchvision import datasets, transforms"
   ]
  },
  {
   "cell_type": "markdown",
   "id": "2565be1c-3e76-4ed0-a647-42398cad3d48",
   "metadata": {},
   "source": [
    "### Загрузка данных"
   ]
  },
  {
   "cell_type": "code",
   "execution_count": 11,
   "id": "84eb71d3-b23c-4875-8ab9-b3d70d8dc53b",
   "metadata": {},
   "outputs": [],
   "source": [
    "transform = transforms.Compose([\n",
    "                            transforms.Resize((32, 32)),\n",
    "                            transforms.ToTensor(),\n",
    "                            transforms.Normalize((0.5,), (0.5,))\n",
    "                        ])\n",
    "\n",
    "train_dataset = datasets.MNIST(root='./data', train=True, download=True, transform=transform)\n",
    "\n",
    "test_dataset = datasets.MNIST(root='./data', train=False, download=True, transform=transform)\n",
    "# test_loader = torch.utils.data.DataLoader(test_dataset, batch_size=64, shuffle=False)\n",
    "\n",
    "BATCH_SIZE = 64\n",
    "train_loader = torch.utils.data.DataLoader(train_dataset, batch_size=BATCH_SIZE,  shuffle=True)\n",
    "test_loader = torch.utils.data.DataLoader(test_dataset, batch_size=BATCH_SIZE)\n"
   ]
  },
  {
   "cell_type": "code",
   "execution_count": 12,
   "id": "75e5ed23-e0c7-41cd-b169-54453c6a4606",
   "metadata": {},
   "outputs": [],
   "source": [
    "def display(num = 2):\n",
    "    import matplotlib.pyplot as plt\n",
    "    x, y = train_dataset[num]\n",
    "    plt.imshow(x.numpy()[0], cmap='gray')\n",
    "    plt.show()"
   ]
  },
  {
   "cell_type": "code",
   "execution_count": 13,
   "id": "05258d13-d9f5-40f0-bd57-081fb68147fe",
   "metadata": {},
   "outputs": [
    {
     "data": {
      "image/png": "[encoded data removed]",
      "text/plain": [
       "<Figure size 640x480 with 1 Axes>"
      ]
     },
     "metadata": {},
     "output_type": "display_data"
    }
   ],
   "source": [
    "display(2)"
   ]
  },
  {
   "cell_type": "code",
   "execution_count": 14,
   "id": "5b148869-773e-4c17-9406-12636bd3e6c2",
   "metadata": {},
   "outputs": [
    {
     "data": {
      "image/png": "[encoded data removed]",
      "text/plain": [
       "<Figure size 640x480 with 1 Axes>"
      ]
     },
     "metadata": {},
     "output_type": "display_data"
    }
   ],
   "source": [
    "display(5)"
   ]
  },
  {
   "cell_type": "markdown",
   "id": "e5e4fd3e-188e-4ad6-8042-b7b395c8e1d2",
   "metadata": {},
   "source": [
    "## Модель"
   ]
  },
  {
   "cell_type": "code",
   "execution_count": 15,
   "id": "4f0a683a-eb57-44da-b73f-c98fc5de3794",
   "metadata": {},
   "outputs": [],
   "source": [
    "class LeNet5(nn.Module):\n",
    "\n",
    "    def __init__(self, num_classes = 10):\n",
    "        super().__init__()\n",
    "\n",
    "        self.num_classes = num_classes\n",
    "\n",
    "        self.features = nn.Sequential(\n",
    "            nn.Conv2d(1, 6, kernel_size=5),\n",
    "            nn.Tanh(),\n",
    "            nn.MaxPool2d(kernel_size=2),\n",
    "            nn.Conv2d(6, 16, kernel_size=5),\n",
    "            nn.Tanh(),\n",
    "            nn.MaxPool2d(kernel_size=2)\n",
    "        )\n",
    "\n",
    "        self.classifier = nn.Sequential(\n",
    "            nn.Linear(16 * 5 * 5, 120),\n",
    "            nn.Tanh(),\n",
    "            nn.Linear(120, 84),\n",
    "            nn.Tanh(),\n",
    "            nn.Linear(84, num_classes)\n",
    "        )\n",
    "\n",
    "    def forward(self, x):\n",
    "        x = self.features(x)\n",
    "        x = torch.flatten(x, 1)\n",
    "        logit = self.classifier(x)\n",
    "        return logit"
   ]
  },
  {
   "cell_type": "code",
   "execution_count": 16,
   "id": "59d54df5-2809-4e67-ad26-a8f453425ef1",
   "metadata": {},
   "outputs": [],
   "source": [
    "device = torch.device(\"cuda\" if torch.cuda.is_available() else \"cpu\")\n",
    "model = LeNet5().to(device)\n",
    "criterion = nn.CrossEntropyLoss()\n",
    "optimizer = optim.Adam(model.parameters())"
   ]
  },
  {
   "cell_type": "code",
   "execution_count": 17,
   "id": "6b2901a6-f103-427a-84e8-bc26dbf26379",
   "metadata": {},
   "outputs": [],
   "source": [
    "def evaluate_accuracy(data_iter, net):\n",
    "    acc_sum, n = torch.Tensor([0]).to(device), 0\n",
    "    for X, y in data_iter:\n",
    "        images, labels = X.to(device), y.to(device)\n",
    "        outputs = net(images).to(device)\n",
    "\n",
    "        acc_sum += (outputs.argmax(axis=1) == labels).sum()\n",
    "        n += y.shape[0]\n",
    "    acc_sum = acc_sum.to('cpu')\n",
    "    return acc_sum.item() / n\n",
    "\n",
    "path_model = r'model/model.pth'\n",
    "def save_model(model):\n",
    "    torch.save(model.state_dict(), path_model)\n",
    "\n",
    "def read_model():\n",
    "    model = LeNet5()\n",
    "    model.load_state_dict(torch.load(path_model))\n",
    "    return model\n"
   ]
  },
  {
   "cell_type": "code",
   "execution_count": 20,
   "id": "fcaf6f70-ceaa-4ba7-a4c1-601d2ca54471",
   "metadata": {},
   "outputs": [
    {
     "name": "stdout",
     "output_type": "stream",
     "text": [
      "epoch 1, loss 0.0033, train acc 0.942, test acc 0.981, time 13.7 sec\n",
      "epoch 2, loss 0.0009, train acc 0.981, test acc 0.986, time 13.6 sec\n",
      "epoch 3, loss 0.0006, train acc 0.987, test acc 0.992, time 13.8 sec\n",
      "epoch 4, loss 0.0005, train acc 0.990, test acc 0.992, time 14.0 sec\n",
      "epoch 5, loss 0.0004, train acc 0.992, test acc 0.992, time 13.8 sec\n",
      "epoch 6, loss 0.0003, train acc 0.994, test acc 0.996, time 13.2 sec\n",
      "epoch 7, loss 0.0003, train acc 0.995, test acc 0.995, time 13.2 sec\n",
      "epoch 8, loss 0.0002, train acc 0.996, test acc 0.998, time 13.3 sec\n",
      "epoch 9, loss 0.0002, train acc 0.996, test acc 0.996, time 13.1 sec\n",
      "epoch 10, loss 0.0001, train acc 0.997, test acc 0.998, time 13.6 sec\n"
     ]
    }
   ],
   "source": [
    "epochs = 10\n",
    "for epoch in range(epochs):\n",
    "    train_l_sum, train_acc_sum, n, start = 0.0, 0.0, 0, time.time()\n",
    "\n",
    "    model.train()\n",
    "    for i, (images, labels) in enumerate(train_loader):\n",
    "        images, labels = images.to(device), labels.to(device)\n",
    "\n",
    "        optimizer.zero_grad()\n",
    "        outputs = model(images)\n",
    "\n",
    "        loss = criterion(outputs, labels)\n",
    "        loss.backward()\n",
    "        optimizer.step()\n",
    "\n",
    "        train_l_sum += loss.item()\n",
    "        train_acc_sum += (outputs.argmax(axis=1) == labels).sum().item()\n",
    "        n += labels.shape[0]\n",
    "\n",
    "\n",
    "    model.eval()\n",
    "    test_acc = evaluate_accuracy(train_loader, model)\n",
    "    print(f'epoch {epoch + 1}, loss {train_l_sum / n:.4f}, train acc {train_acc_sum / n:.3f}' \\\n",
    "          f', test acc {test_acc:.3f}, time {time.time() - start:.1f} sec')\n",
    "    save_model(model)"
   ]
  },
  {
   "cell_type": "code",
   "execution_count": 21,
   "id": "8bb7c470-5318-4aa5-8127-4b072cda5142",
   "metadata": {},
   "outputs": [
    {
     "name": "stdout",
     "output_type": "stream",
     "text": [
      "Test Accuracy: 98.72%\n"
     ]
    }
   ],
   "source": [
    "model.eval()\n",
    "with torch.no_grad():\n",
    "    correct = 0\n",
    "    total = 0\n",
    "    for images, labels in test_loader:\n",
    "        images, labels = images.to(device), labels.to(device)\n",
    "        outputs = model(images)\n",
    "        _, predicted = torch.max(outputs.data, 1)\n",
    "        total += labels.size(0)\n",
    "        correct += (predicted == labels).sum().item()\n",
    "\n",
    "    print('Test Accuracy: {:.2f}%'.format(100 * correct / total))"
   ]
  },
  {
   "cell_type": "markdown",
   "id": "8947633b-6bfc-42f5-8aaf-6465d174a8b7",
   "metadata": {},
   "source": [
    "# Пример"
   ]
  },
  {
   "cell_type": "code",
   "execution_count": 22,
   "id": "25edad7c-04ed-4931-95f0-f55944b2df32",
   "metadata": {},
   "outputs": [
    {
     "name": "stderr",
     "output_type": "stream",
     "text": [
      "C:\\Users\\daimond025\\AppData\\Local\\Temp\\ipykernel_52656\\3351421882.py:18: FutureWarning: You are using `torch.load` with `weights_only=False` (the current default value), which uses the default pickle module implicitly. It is possible to construct malicious pickle data which will execute arbitrary code during unpickling (See https://github.com/pytorch/pytorch/blob/main/SECURITY.md#untrusted-models for more details). In a future release, the default value for `weights_only` will be flipped to `True`. This limits the functions that could be executed during unpickling. Arbitrary objects will no longer be allowed to be loaded via this mode unless they are explicitly allowlisted by the user via `torch.serialization.add_safe_globals`. We recommend you start setting `weights_only=True` for any use case where you don't have full control of the loaded file. Please open an issue on GitHub for any issues related to this experimental feature.\n",
      "  model.load_state_dict(torch.load(path_model))\n"
     ]
    }
   ],
   "source": [
    "model = read_model()"
   ]
  },
  {
   "cell_type": "code",
   "execution_count": 25,
   "id": "de09fdb9-d3f7-457e-9ec8-c93749e3c439",
   "metadata": {},
   "outputs": [],
   "source": [
    "from matplotlib import pyplot as plt\n",
    "def predict_image(img, model):\n",
    "    xb = img.unsqueeze(0)\n",
    "    yb = model(xb)\n",
    "    _, preds  = torch.max(yb, dim=1)\n",
    "    return preds[0].item()"
   ]
  },
  {
   "cell_type": "code",
   "execution_count": 29,
   "id": "d28d6507-8aba-4133-be6d-c0008c3a7bd9",
   "metadata": {},
   "outputs": [
    {
     "name": "stdout",
     "output_type": "stream",
     "text": [
      "Label: 2 , Predicted: 2\n"
     ]
    },
    {
     "data": {
      "image/png": "[encoded data removed]",
      "text/plain": [
       "<Figure size 640x480 with 1 Axes>"
      ]
     },
     "metadata": {},
     "output_type": "display_data"
    }
   ],
   "source": [
    "img, label = train_dataset[5]\n",
    "plt.imshow(img[0], cmap='gray')\n",
    "print('Label:', label, ', Predicted:', predict_image(img, model))"
   ]
  },
  {
   "cell_type": "markdown",
   "id": "5bd3f4e7-0a35-49d2-a9ff-95a81062761d",
   "metadata": {},
   "source": [
    "#  Обучение неправильнйо модели\n",
    "Так как у нас есть модель с весами каторая предсказывает почти точно, то чтобы модель предсказывала неточно постороим ддругую модель.\n",
    "\n",
    "Эта модель на входе содержит две свертки (котоыре фактически и обучаются) и обученную выше модель (но она не будет ихзменять свои веса)\n",
    "\n",
    "При обучении  список правильных классов будем увеличивать на случайнык метки правильного класса. \n",
    "\n",
    "Таким образом первые двер сепртки модели и создадут шум котоыре не позволит ПРАВИЛЬНОЙ модели предсказывать клаксс"
   ]
  },
  {
   "cell_type": "code",
   "execution_count": 30,
   "id": "3b77e61f-5d55-483d-910c-3e364debcde6",
   "metadata": {},
   "outputs": [],
   "source": [
    "import torch.nn.functional as F\n",
    "#  Моедель для обманывания моделди\n",
    "class Model_wrong(nn.Module):\n",
    "\n",
    "    def __init__(self, model:nn.Module):\n",
    "        super().__init__()\n",
    "\n",
    "        self.conv_1 = nn.Conv2d(1, 6, kernel_size=3, padding=1)\n",
    "        self.conv_2 = nn.Conv2d(6, 1, kernel_size=3, padding=1)\n",
    "\n",
    "        self.model = model\n",
    "        self.model.eval()\n",
    "        self.reset_params()\n",
    "\n",
    "    @staticmethod\n",
    "    def weight_init(m):\n",
    "        if isinstance(m, nn.Conv2d):\n",
    "            nn.init.xavier_normal_(m.weight)\n",
    "            nn.init.constant_(m.bias, 0)\n",
    "\n",
    "    def reset_params(self):\n",
    "        for i, m in enumerate(self.modules()):\n",
    "            self.weight_init(m)\n",
    "\n",
    "    def forward(self, x):\n",
    "        out = F.relu(self.conv_1(x))\n",
    "        out = F.relu(self.conv_2(out))\n",
    "        out = self.model(out)\n",
    "        return out"
   ]
  },
  {
   "cell_type": "code",
   "execution_count": 31,
   "id": "deead92a-7547-4674-896c-c53cbd89b4f8",
   "metadata": {},
   "outputs": [
    {
     "name": "stderr",
     "output_type": "stream",
     "text": [
      "C:\\Users\\daimond025\\AppData\\Local\\Temp\\ipykernel_52656\\3351421882.py:18: FutureWarning: You are using `torch.load` with `weights_only=False` (the current default value), which uses the default pickle module implicitly. It is possible to construct malicious pickle data which will execute arbitrary code during unpickling (See https://github.com/pytorch/pytorch/blob/main/SECURITY.md#untrusted-models for more details). In a future release, the default value for `weights_only` will be flipped to `True`. This limits the functions that could be executed during unpickling. Arbitrary objects will no longer be allowed to be loaded via this mode unless they are explicitly allowlisted by the user via `torch.serialization.add_safe_globals`. We recommend you start setting `weights_only=True` for any use case where you don't have full control of the loaded file. Please open an issue on GitHub for any issues related to this experimental feature.\n",
      "  model.load_state_dict(torch.load(path_model))\n"
     ]
    }
   ],
   "source": [
    "model = read_model()\n",
    "model_wrong = Model_wrong(model)"
   ]
  },
  {
   "cell_type": "code",
   "execution_count": 33,
   "id": "072fcc5b-a95f-4c57-b6fd-a5d65b988576",
   "metadata": {},
   "outputs": [
    {
     "data": {
      "text/plain": [
       "Model_wrong(\n",
       "  (conv_1): Conv2d(1, 6, kernel_size=(3, 3), stride=(1, 1), padding=(1, 1))\n",
       "  (conv_2): Conv2d(6, 1, kernel_size=(3, 3), stride=(1, 1), padding=(1, 1))\n",
       "  (model): LeNet5(\n",
       "    (features): Sequential(\n",
       "      (0): Conv2d(1, 6, kernel_size=(5, 5), stride=(1, 1))\n",
       "      (1): Tanh()\n",
       "      (2): MaxPool2d(kernel_size=2, stride=2, padding=0, dilation=1, ceil_mode=False)\n",
       "      (3): Conv2d(6, 16, kernel_size=(5, 5), stride=(1, 1))\n",
       "      (4): Tanh()\n",
       "      (5): MaxPool2d(kernel_size=2, stride=2, padding=0, dilation=1, ceil_mode=False)\n",
       "    )\n",
       "    (classifier): Sequential(\n",
       "      (0): Linear(in_features=400, out_features=120, bias=True)\n",
       "      (1): Tanh()\n",
       "      (2): Linear(in_features=120, out_features=84, bias=True)\n",
       "      (3): Tanh()\n",
       "      (4): Linear(in_features=84, out_features=10, bias=True)\n",
       "    )\n",
       "  )\n",
       ")"
      ]
     },
     "execution_count": 33,
     "metadata": {},
     "output_type": "execute_result"
    }
   ],
   "source": [
    "model_wrong"
   ]
  },
  {
   "cell_type": "code",
   "execution_count": 35,
   "id": "caef4dd4-d4c2-44d0-9007-02f36ba549b5",
   "metadata": {},
   "outputs": [],
   "source": [
    "path_model_wrong = r'model/model_wrong.pth'\n",
    "def save_model_wrong(model):\n",
    "    torch.save(model.state_dict(), path_model_wrong)"
   ]
  },
  {
   "cell_type": "code",
   "execution_count": 36,
   "id": "0eae517d-b59b-4317-a1b7-ccd123f7c56c",
   "metadata": {},
   "outputs": [
    {
     "name": "stdout",
     "output_type": "stream",
     "text": [
      "\t conv_1.weight\n",
      "\t conv_1.bias\n",
      "\t conv_2.weight\n",
      "\t conv_2.bias\n"
     ]
    }
   ],
   "source": [
    "name_to_update = ['conv_1', 'conv_2']\n",
    "params_to_update = []\n",
    "for name, param in model_wrong.named_parameters():\n",
    "    name_split = name.split('.')\n",
    "    if name_split[0] in name_to_update and param.requires_grad == True:\n",
    "        params_to_update.append(param)\n",
    "        print(\"\\t\",name)"
   ]
  },
  {
   "cell_type": "code",
   "execution_count": 43,
   "id": "3419d321-116b-4576-ae95-c1a498790edf",
   "metadata": {},
   "outputs": [],
   "source": [
    "def train_wrong(model):\n",
    "    import  random\n",
    "    model = model.to(device)\n",
    "    criterion = nn.CrossEntropyLoss()\n",
    "    optimizer = optim.Adam(params_to_update, lr=0.001)\n",
    "\n",
    "\n",
    "    epochs = 10\n",
    "    for epoch in range(epochs):\n",
    "        train_l_sum, train_acc_sum, n, start = 0.0, 0.0, 0, time.time()\n",
    "\n",
    "        model.train()\n",
    "        for i, (images, labels) in enumerate(train_loader):\n",
    "            # переформатируем целевой класс\n",
    "            rand_add = random.randrange(1, 5)\n",
    "\n",
    "            labels_wrong= torch.remainder(labels + rand_add, 10).to(device)\n",
    "            images, labels_wrong = images.to(device), labels_wrong.to(device)\n",
    "\n",
    "            optimizer.zero_grad()\n",
    "            outputs = model(images)\n",
    "\n",
    "            loss = criterion(outputs, labels_wrong)\n",
    "            loss.backward()\n",
    "            optimizer.step()\n",
    "\n",
    "            train_l_sum += loss.item()\n",
    "            train_acc_sum += (outputs.argmax(axis=1) == labels_wrong).sum().item()\n",
    "            n += labels.shape[0]\n",
    "\n",
    "\n",
    "        model.eval()\n",
    "        test_acc = evaluate_accuracy(train_loader, model)\n",
    "        print(f'epoch {epoch + 1}, loss {train_l_sum / n:.4f}, train acc {train_acc_sum / n:.3f}' \\\n",
    "            f', test acc {test_acc:.3f}, time {time.time() - start:.1f} sec')\n",
    "        save_model_wrong(model)\n"
   ]
  },
  {
   "cell_type": "code",
   "execution_count": 44,
   "id": "25985d27-f7e6-462b-86c0-eac0405bbcc3",
   "metadata": {},
   "outputs": [
    {
     "name": "stdout",
     "output_type": "stream",
     "text": [
      "epoch 1, loss 0.0440, train acc 0.097, test acc 0.092, time 14.2 sec\n",
      "epoch 2, loss 0.0428, train acc 0.100, test acc 0.089, time 13.6 sec\n",
      "epoch 3, loss 0.0425, train acc 0.104, test acc 0.076, time 13.7 sec\n",
      "epoch 4, loss 0.0425, train acc 0.104, test acc 0.084, time 13.3 sec\n",
      "epoch 5, loss 0.0425, train acc 0.105, test acc 0.078, time 13.7 sec\n",
      "epoch 6, loss 0.0423, train acc 0.106, test acc 0.091, time 13.3 sec\n",
      "epoch 7, loss 0.0422, train acc 0.110, test acc 0.070, time 13.2 sec\n",
      "epoch 8, loss 0.0423, train acc 0.108, test acc 0.049, time 13.2 sec\n",
      "epoch 9, loss 0.0422, train acc 0.109, test acc 0.076, time 13.6 sec\n",
      "epoch 10, loss 0.0422, train acc 0.108, test acc 0.070, time 13.4 sec\n"
     ]
    }
   ],
   "source": [
    "train_wrong(model_wrong)"
   ]
  },
  {
   "cell_type": "code",
   "execution_count": 48,
   "id": "6f5df834-c985-42a5-b37a-218678b10266",
   "metadata": {},
   "outputs": [],
   "source": [
    "path_model_wrong = r'model/model_wrong.pth'\n",
    "def read_model_wrong():\n",
    "    model = model_wrong()\n",
    "    model.load_state_dict(torch.load(path_model_wrong))\n",
    "    return model"
   ]
  },
  {
   "cell_type": "code",
   "execution_count": 51,
   "id": "7bd2cabf-a17c-4411-bf0e-da75ff752784",
   "metadata": {},
   "outputs": [
    {
     "data": {
      "text/plain": [
       "Model_wrong(\n",
       "  (conv_1): Conv2d(1, 6, kernel_size=(3, 3), stride=(1, 1), padding=(1, 1))\n",
       "  (conv_2): Conv2d(6, 1, kernel_size=(3, 3), stride=(1, 1), padding=(1, 1))\n",
       "  (model): LeNet5(\n",
       "    (features): Sequential(\n",
       "      (0): Conv2d(1, 6, kernel_size=(5, 5), stride=(1, 1))\n",
       "      (1): Tanh()\n",
       "      (2): MaxPool2d(kernel_size=2, stride=2, padding=0, dilation=1, ceil_mode=False)\n",
       "      (3): Conv2d(6, 16, kernel_size=(5, 5), stride=(1, 1))\n",
       "      (4): Tanh()\n",
       "      (5): MaxPool2d(kernel_size=2, stride=2, padding=0, dilation=1, ceil_mode=False)\n",
       "    )\n",
       "    (classifier): Sequential(\n",
       "      (0): Linear(in_features=400, out_features=120, bias=True)\n",
       "      (1): Tanh()\n",
       "      (2): Linear(in_features=120, out_features=84, bias=True)\n",
       "      (3): Tanh()\n",
       "      (4): Linear(in_features=84, out_features=10, bias=True)\n",
       "    )\n",
       "  )\n",
       ")"
      ]
     },
     "execution_count": 51,
     "metadata": {},
     "output_type": "execute_result"
    }
   ],
   "source": [
    "model_wrong"
   ]
  },
  {
   "cell_type": "code",
   "execution_count": 52,
   "id": "03df7fb4-50fe-4498-b2ad-966af2aeb816",
   "metadata": {},
   "outputs": [
    {
     "data": {
      "text/plain": [
       "LeNet5(\n",
       "  (features): Sequential(\n",
       "    (0): Conv2d(1, 6, kernel_size=(5, 5), stride=(1, 1))\n",
       "    (1): Tanh()\n",
       "    (2): MaxPool2d(kernel_size=2, stride=2, padding=0, dilation=1, ceil_mode=False)\n",
       "    (3): Conv2d(6, 16, kernel_size=(5, 5), stride=(1, 1))\n",
       "    (4): Tanh()\n",
       "    (5): MaxPool2d(kernel_size=2, stride=2, padding=0, dilation=1, ceil_mode=False)\n",
       "  )\n",
       "  (classifier): Sequential(\n",
       "    (0): Linear(in_features=400, out_features=120, bias=True)\n",
       "    (1): Tanh()\n",
       "    (2): Linear(in_features=120, out_features=84, bias=True)\n",
       "    (3): Tanh()\n",
       "    (4): Linear(in_features=84, out_features=10, bias=True)\n",
       "  )\n",
       ")"
      ]
     },
     "execution_count": 52,
     "metadata": {},
     "output_type": "execute_result"
    }
   ],
   "source": [
    "model"
   ]
  },
  {
   "cell_type": "code",
   "execution_count": 53,
   "id": "cecb2759-9735-4b6d-9993-1ec8192858e8",
   "metadata": {},
   "outputs": [
    {
     "name": "stdout",
     "output_type": "stream",
     "text": [
      "Label: 2 , Predicted: 2\n"
     ]
    },
    {
     "data": {
      "image/png": "[encoded data removed]",
      "text/plain": [
       "<Figure size 640x480 with 1 Axes>"
      ]
     },
     "metadata": {},
     "output_type": "display_data"
    }
   ],
   "source": [
    "img, label = train_dataset[5]\n",
    "plt.imshow(img[0], cmap='gray')\n",
    "print('Label:', label, ', Predicted:', predict_image(img, model))"
   ]
  },
  {
   "cell_type": "code",
   "execution_count": 58,
   "id": "4d347229-5875-4e60-b54b-266d5ad0942f",
   "metadata": {},
   "outputs": [],
   "source": [
    "def read_model_wrong():\n",
    "    model = read_model()\n",
    "    model_wrong = Model_wrong(model)\n",
    "    model_wrong.load_state_dict(torch.load(path_model_wrong))\n",
    "    return model_wrong"
   ]
  },
  {
   "cell_type": "code",
   "execution_count": 61,
   "id": "c1cc22f3-dbb0-4697-a69c-f83d8b5672bf",
   "metadata": {},
   "outputs": [
    {
     "name": "stderr",
     "output_type": "stream",
     "text": [
      "C:\\Users\\daimond025\\AppData\\Local\\Temp\\ipykernel_52656\\3351421882.py:18: FutureWarning: You are using `torch.load` with `weights_only=False` (the current default value), which uses the default pickle module implicitly. It is possible to construct malicious pickle data which will execute arbitrary code during unpickling (See https://github.com/pytorch/pytorch/blob/main/SECURITY.md#untrusted-models for more details). In a future release, the default value for `weights_only` will be flipped to `True`. This limits the functions that could be executed during unpickling. Arbitrary objects will no longer be allowed to be loaded via this mode unless they are explicitly allowlisted by the user via `torch.serialization.add_safe_globals`. We recommend you start setting `weights_only=True` for any use case where you don't have full control of the loaded file. Please open an issue on GitHub for any issues related to this experimental feature.\n",
      "  model.load_state_dict(torch.load(path_model))\n",
      "C:\\Users\\daimond025\\AppData\\Local\\Temp\\ipykernel_52656\\2685426211.py:4: FutureWarning: You are using `torch.load` with `weights_only=False` (the current default value), which uses the default pickle module implicitly. It is possible to construct malicious pickle data which will execute arbitrary code during unpickling (See https://github.com/pytorch/pytorch/blob/main/SECURITY.md#untrusted-models for more details). In a future release, the default value for `weights_only` will be flipped to `True`. This limits the functions that could be executed during unpickling. Arbitrary objects will no longer be allowed to be loaded via this mode unless they are explicitly allowlisted by the user via `torch.serialization.add_safe_globals`. We recommend you start setting `weights_only=True` for any use case where you don't have full control of the loaded file. Please open an issue on GitHub for any issues related to this experimental feature.\n",
      "  model_wrong.load_state_dict(torch.load(path_model_wrong))\n"
     ]
    }
   ],
   "source": [
    "model_wrong  = read_model_wrong()"
   ]
  },
  {
   "cell_type": "code",
   "execution_count": 62,
   "id": "9249922c-6442-4659-b4c7-bb7e88b54f43",
   "metadata": {},
   "outputs": [
    {
     "data": {
      "text/plain": [
       "Model_wrong(\n",
       "  (conv_1): Conv2d(1, 6, kernel_size=(3, 3), stride=(1, 1), padding=(1, 1))\n",
       "  (conv_2): Conv2d(6, 1, kernel_size=(3, 3), stride=(1, 1), padding=(1, 1))\n",
       "  (model): LeNet5(\n",
       "    (features): Sequential(\n",
       "      (0): Conv2d(1, 6, kernel_size=(5, 5), stride=(1, 1))\n",
       "      (1): Tanh()\n",
       "      (2): MaxPool2d(kernel_size=2, stride=2, padding=0, dilation=1, ceil_mode=False)\n",
       "      (3): Conv2d(6, 16, kernel_size=(5, 5), stride=(1, 1))\n",
       "      (4): Tanh()\n",
       "      (5): MaxPool2d(kernel_size=2, stride=2, padding=0, dilation=1, ceil_mode=False)\n",
       "    )\n",
       "    (classifier): Sequential(\n",
       "      (0): Linear(in_features=400, out_features=120, bias=True)\n",
       "      (1): Tanh()\n",
       "      (2): Linear(in_features=120, out_features=84, bias=True)\n",
       "      (3): Tanh()\n",
       "      (4): Linear(in_features=84, out_features=10, bias=True)\n",
       "    )\n",
       "  )\n",
       ")"
      ]
     },
     "execution_count": 62,
     "metadata": {},
     "output_type": "execute_result"
    }
   ],
   "source": [
    "model_wrong"
   ]
  },
  {
   "cell_type": "code",
   "execution_count": 63,
   "id": "06d018a9-5ac6-4975-a9f3-f99c84a02fdc",
   "metadata": {},
   "outputs": [
    {
     "name": "stdout",
     "output_type": "stream",
     "text": [
      "Label: 2 , Predicted: 5\n"
     ]
    },
    {
     "data": {
      "image/png": "[encoded data removed]",
      "text/plain": [
       "<Figure size 640x480 with 1 Axes>"
      ]
     },
     "metadata": {},
     "output_type": "display_data"
    }
   ],
   "source": [
    "def predict_image(img, model):\n",
    "    xb = img.unsqueeze(0)\n",
    "    yb = model(xb)\n",
    "    _, preds  = torch.max(yb, dim=1)\n",
    "    return preds[0].item()\n",
    "\n",
    "img, label = train_dataset[5]\n",
    "plt.imshow(img[0], cmap='gray')\n",
    "print('Label:', label, ', Predicted:', predict_image(img, model_wrong))"
   ]
  },
  {
   "cell_type": "markdown",
   "id": "6e02dcf6-6861-41aa-8e02-0e492b0e3668",
   "metadata": {},
   "source": [
    "Вывод:\n",
    "- если имеется готовая модель то можно и строить на базе нее такие модели которые неправильно дают предсказания! \n",
    "\n",
    "В моем случае первые две свертки и дают тот шум входного изображения и преобразоваывают входное изображения, которые не позщволяет ПРАВИЛЬНОЙ модели\n",
    "делать предсказания. \n"
   ]
  },
  {
   "cell_type": "code",
   "execution_count": null,
   "id": "f502150b-e164-4e84-8bc1-abb5c4144bf1",
   "metadata": {},
   "outputs": [],
   "source": []
  }
 ],
 "metadata": {
  "kernelspec": {
   "display_name": "Python 3 (ipykernel)",
   "language": "python",
   "name": "python3"
  },
  "language_info": {
   "codemirror_mode": {
    "name": "ipython",
    "version": 3
   },
   "file_extension": ".py",
   "mimetype": "text/x-python",
   "name": "python",
   "nbconvert_exporter": "python",
   "pygments_lexer": "ipython3",
   "version": "3.12.5"
  }
 },
 "nbformat": 4,
 "nbformat_minor": 5
}
